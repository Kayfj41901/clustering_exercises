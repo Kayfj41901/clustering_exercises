{
 "cells": [
  {
   "cell_type": "code",
   "execution_count": 1,
   "id": "71afdc02",
   "metadata": {},
   "outputs": [],
   "source": [
    "# ignore warnings\n",
    "import warnings\n",
    "warnings.filterwarnings(\"ignore\")\n",
    "\n",
    "# Wrangling\n",
    "import pandas as pd\n",
    "import numpy as np\n",
    "\n",
    "# Exploring\n",
    "import scipy.stats as stats\n",
    "\n",
    "# Visualizing\n",
    "%matplotlib inline\n",
    "import matplotlib.pyplot as plt\n",
    "import seaborn as sns\n",
    "\n",
    "from sklearn.model_selection import train_test_split \n",
    "from sklearn.preprocessing import MinMaxScaler\n",
    "\n",
    "import env\n",
    "\n",
    "import wrangle_zillow\n",
    "\n",
    "df = wrangle_zillow.acquire()\n",
    "\n",
    "pd.options.display.max_rows = 100 \n",
    "\n",
    "# default pandas decimal number display format\n",
    "pd.options.display.float_format = '{:20,.2f}'.format\n"
   ]
  },
  {
   "cell_type": "code",
   "execution_count": 2,
   "id": "c7b0efd3",
   "metadata": {},
   "outputs": [],
   "source": [
    "#map bathroom counts five and over to the number five, leave all other bathroom counts as is\n",
    "df['bathroomcnt'] = df['bathroomcnt'].map(lambda x: x if x < 5 else 5)"
   ]
  },
  {
   "cell_type": "code",
   "execution_count": 3,
   "id": "62652ddd",
   "metadata": {},
   "outputs": [],
   "source": [
    "#drop all bathroom counts with 0 value \n",
    "df.drop(df[df['bathroomcnt'] == 0].index, inplace = True)"
   ]
  },
  {
   "cell_type": "code",
   "execution_count": 4,
   "id": "ad47e851",
   "metadata": {},
   "outputs": [],
   "source": [
    "#map fips numbers to location names \n",
    "df['location'] = df.fips.map({6037:'LA', 6059:'Orange', 6111:'Ventura'})"
   ]
  },
  {
   "cell_type": "code",
   "execution_count": 5,
   "id": "5bf10378",
   "metadata": {},
   "outputs": [
    {
     "name": "stdout",
     "output_type": "stream",
     "text": [
      "Before dropping nulls, 76788 rows, 69 cols\n",
      "After dropping nulls, 65273 rows, 35 cols\n"
     ]
    }
   ],
   "source": [
    "print('Before dropping nulls, %d rows, %d cols' % df.shape)\n",
    "df = wrangle_zillow.handle_missing_values(df, prop_required_column=.5, prop_required_row=.5)\n",
    "print('After dropping nulls, %d rows, %d cols' % df.shape)"
   ]
  },
  {
   "cell_type": "code",
   "execution_count": 6,
   "id": "f19ae0c7",
   "metadata": {},
   "outputs": [
    {
     "data": {
      "text/plain": [
       "1.00    46933\n",
       "2.00     1452\n",
       "4.00      438\n",
       "3.00      345\n",
       "6.00        1\n",
       "Name: unitcnt, dtype: int64"
      ]
     },
     "execution_count": 6,
     "metadata": {},
     "output_type": "execute_result"
    }
   ],
   "source": [
    "df.unitcnt.value_counts()"
   ]
  },
  {
   "cell_type": "code",
   "execution_count": 7,
   "id": "6872dd2c",
   "metadata": {},
   "outputs": [],
   "source": [
    "#drop unit counts over 1 \n",
    "#df = df.drop.unitcnt[df.unitcnt > 1]"
   ]
  },
  {
   "cell_type": "code",
   "execution_count": 8,
   "id": "5eecb14f",
   "metadata": {},
   "outputs": [],
   "source": [
    "\n",
    "#df = df.drop[['buildingqualitytypeid', 'heatingorsystemdesc', ]]"
   ]
  },
  {
   "cell_type": "code",
   "execution_count": 9,
   "id": "aa0565c6",
   "metadata": {},
   "outputs": [],
   "source": [
    "def split_zillow_data(df):\n",
    "    '''\n",
    "    This function performs split on zillow data, stratify churn.\n",
    "    Returns train, validate, and test dfs.\n",
    "    '''\n",
    "    train_validate, test = train_test_split(df, test_size=.2, \n",
    "                                        random_state=123)\n",
    "    train, validate = train_test_split(train_validate, test_size=.3, \n",
    "                                   random_state=123)\n",
    "    return train, validate, test"
   ]
  },
  {
   "cell_type": "code",
   "execution_count": 10,
   "id": "d7052173",
   "metadata": {},
   "outputs": [],
   "source": [
    "#split the data train, validate, test \n",
    "train, validate, test = split_zillow_data(df)"
   ]
  },
  {
   "cell_type": "code",
   "execution_count": 11,
   "id": "acc736b9",
   "metadata": {},
   "outputs": [
    {
     "data": {
      "text/plain": [
       "id                                 0\n",
       "parcelid                           0\n",
       "bathroomcnt                        0\n",
       "bedroomcnt                         0\n",
       "buildingqualitytypeid           9229\n",
       "calculatedbathnbr                  0\n",
       "calculatedfinishedsquarefeet       1\n",
       "finishedsquarefeet12            1241\n",
       "fips                               0\n",
       "fullbathcnt                        0\n",
       "heatingorsystemtypeid           9068\n",
       "latitude                           0\n",
       "longitude                          0\n",
       "lotsizesquarefeet               1780\n",
       "propertycountylandusecode          0\n",
       "propertylandusetypeid              0\n",
       "propertyzoningdesc              9038\n",
       "rawcensustractandblock             0\n",
       "regionidcity                     652\n",
       "regionidcounty                     0\n",
       "regionidzip                        8\n",
       "roomcnt                            0\n",
       "unitcnt                         9011\n",
       "yearbuilt                         19\n",
       "structuretaxvaluedollarcnt        34\n",
       "taxvaluedollarcnt                  0\n",
       "assessmentyear                     0\n",
       "landtaxvaluedollarcnt              0\n",
       "taxamount                          2\n",
       "censustractandblock               62\n",
       "logerror                           0\n",
       "transactiondate                    0\n",
       "heatingorsystemdesc             9068\n",
       "propertylandusedesc                0\n",
       "location                           0\n",
       "dtype: int64"
      ]
     },
     "execution_count": 11,
     "metadata": {},
     "output_type": "execute_result"
    }
   ],
   "source": [
    "train.isnull().sum()"
   ]
  },
  {
   "cell_type": "code",
   "execution_count": 12,
   "id": "dbb55e81",
   "metadata": {},
   "outputs": [
    {
     "data": {
      "text/plain": [
       "(15666, 35)"
      ]
     },
     "execution_count": 12,
     "metadata": {},
     "output_type": "execute_result"
    }
   ],
   "source": [
    "validate.shape"
   ]
  },
  {
   "cell_type": "code",
   "execution_count": 13,
   "id": "33b56f62",
   "metadata": {},
   "outputs": [
    {
     "data": {
      "text/plain": [
       "(13055, 35)"
      ]
     },
     "execution_count": 13,
     "metadata": {},
     "output_type": "execute_result"
    }
   ],
   "source": [
    "test.shape"
   ]
  },
  {
   "cell_type": "markdown",
   "id": "8aae76b7",
   "metadata": {},
   "source": [
    "### What is the distribution of the log error? "
   ]
  },
  {
   "cell_type": "code",
   "execution_count": 14,
   "id": "c4a59408",
   "metadata": {},
   "outputs": [
    {
     "data": {
      "text/plain": [
       "<AxesSubplot:xlabel='logerror'>"
      ]
     },
     "execution_count": 14,
     "metadata": {},
     "output_type": "execute_result"
    },
    {
     "data": {
      "image/png": "[encoded data removed]",
      "text/plain": [
       "<Figure size 432x288 with 1 Axes>"
      ]
     },
     "metadata": {
      "needs_background": "light"
     },
     "output_type": "display_data"
    }
   ],
   "source": [
    "sns.distplot(train['logerror'], kde=False, bins=30)"
   ]
  },
  {
   "cell_type": "code",
   "execution_count": 15,
   "id": "2c6617b8",
   "metadata": {},
   "outputs": [],
   "source": [
    "train['logerror_bin'] = pd.cut(train.logerror, [-6, -0.06, 0.06, 6])"
   ]
  },
  {
   "cell_type": "markdown",
   "id": "c557e3fb",
   "metadata": {},
   "source": [
    "### Which information can be gained by plotting log error against independent variable?"
   ]
  },
  {
   "cell_type": "code",
   "execution_count": 16,
   "id": "788624a4",
   "metadata": {},
   "outputs": [
    {
     "data": {
      "text/plain": [
       "<function matplotlib.pyplot.show(close=None, block=None)>"
      ]
     },
     "execution_count": 16,
     "metadata": {},
     "output_type": "execute_result"
    },
    {
     "data": {
      "image/png": "[encoded data removed]",
      "text/plain": [
       "<Figure size 432x288 with 1 Axes>"
      ]
     },
     "metadata": {
      "needs_background": "light"
     },
     "output_type": "display_data"
    }
   ],
   "source": [
    "plt.scatter(train['bathroomcnt'],train['logerror'])\n",
    "plt.show"
   ]
  },
  {
   "cell_type": "markdown",
   "id": "46871d05",
   "metadata": {},
   "source": [
    "Key Takeaway: \n",
    "- There is less variation in logerror in homes with 6 or more bathrooms "
   ]
  },
  {
   "cell_type": "code",
   "execution_count": 17,
   "id": "5e45985c",
   "metadata": {},
   "outputs": [
    {
     "data": {
      "text/plain": [
       "<function matplotlib.pyplot.show(close=None, block=None)>"
      ]
     },
     "execution_count": 17,
     "metadata": {},
     "output_type": "execute_result"
    },
    {
     "data": {
      "image/png": "[encoded data removed]",
      "text/plain": [
       "<Figure size 432x288 with 1 Axes>"
      ]
     },
     "metadata": {
      "needs_background": "light"
     },
     "output_type": "display_data"
    }
   ],
   "source": [
    "plt.scatter(train['bedroomcnt'],train['logerror'])\n",
    "plt.show"
   ]
  },
  {
   "cell_type": "markdown",
   "id": "4511b076",
   "metadata": {},
   "source": [
    "Key takeaway: \n",
    "- The variability of log error is greatest in homes 2, 3, 4 and five bathroom homes "
   ]
  },
  {
   "cell_type": "code",
   "execution_count": 18,
   "id": "8743b53f",
   "metadata": {},
   "outputs": [
    {
     "data": {
      "text/plain": [
       "<function matplotlib.pyplot.show(close=None, block=None)>"
      ]
     },
     "execution_count": 18,
     "metadata": {},
     "output_type": "execute_result"
    },
    {
     "data": {
      "image/png": "[encoded data removed]",
      "text/plain": [
       "<Figure size 432x288 with 1 Axes>"
      ]
     },
     "metadata": {
      "needs_background": "light"
     },
     "output_type": "display_data"
    }
   ],
   "source": [
    "plt.scatter(train['buildingqualitytypeid'],train['logerror'])\n",
    "plt.show"
   ]
  },
  {
   "cell_type": "markdown",
   "id": "38ec046c",
   "metadata": {},
   "source": [
    "Key Takeaway: \n",
    "- Log error variation seems similar across building quality types "
   ]
  },
  {
   "cell_type": "code",
   "execution_count": 19,
   "id": "d8c65417",
   "metadata": {},
   "outputs": [
    {
     "data": {
      "text/plain": [
       "<function matplotlib.pyplot.show(close=None, block=None)>"
      ]
     },
     "execution_count": 19,
     "metadata": {},
     "output_type": "execute_result"
    },
    {
     "data": {
      "image/png": "[encoded data removed]",
      "text/plain": [
       "<Figure size 432x288 with 1 Axes>"
      ]
     },
     "metadata": {
      "needs_background": "light"
     },
     "output_type": "display_data"
    }
   ],
   "source": [
    "plt.scatter(train['calculatedbathnbr'],train['logerror'])\n",
    "plt.show"
   ]
  },
  {
   "cell_type": "markdown",
   "id": "2e334d6e",
   "metadata": {},
   "source": [
    "Key Takeaway: \n",
    "- Homes in the '5.5 or greater' category seem to have less log error"
   ]
  },
  {
   "cell_type": "code",
   "execution_count": 20,
   "id": "1ad06da2",
   "metadata": {},
   "outputs": [
    {
     "data": {
      "text/plain": [
       "<function matplotlib.pyplot.show(close=None, block=None)>"
      ]
     },
     "execution_count": 20,
     "metadata": {},
     "output_type": "execute_result"
    },
    {
     "data": {
      "image/png": "[encoded data removed]",
      "text/plain": [
       "<Figure size 432x288 with 1 Axes>"
      ]
     },
     "metadata": {
      "needs_background": "light"
     },
     "output_type": "display_data"
    }
   ],
   "source": [
    "plt.scatter(train['fips'],train['logerror'])\n",
    "plt.show"
   ]
  },
  {
   "cell_type": "markdown",
   "id": "347c9b1a",
   "metadata": {},
   "source": [
    "Key Takeaway: \n",
    "- Log error might be slightly higher in one county, but not significant enough to make it useful for modeling"
   ]
  },
  {
   "cell_type": "code",
   "execution_count": 21,
   "id": "db10aa7b",
   "metadata": {},
   "outputs": [
    {
     "data": {
      "text/plain": [
       "<function matplotlib.pyplot.show(close=None, block=None)>"
      ]
     },
     "execution_count": 21,
     "metadata": {},
     "output_type": "execute_result"
    },
    {
     "data": {
      "image/png": "[encoded data removed]",
      "text/plain": [
       "<Figure size 432x288 with 1 Axes>"
      ]
     },
     "metadata": {
      "needs_background": "light"
     },
     "output_type": "display_data"
    }
   ],
   "source": [
    "plt.scatter(train['fullbathcnt'],train['logerror'])\n",
    "plt.show"
   ]
  },
  {
   "cell_type": "markdown",
   "id": "bc1966f5",
   "metadata": {},
   "source": [
    "Key Takeaway: \n",
    "- Homes with 3 or less full bathroom counts have the most variation in log error "
   ]
  },
  {
   "cell_type": "code",
   "execution_count": 22,
   "id": "50491d48",
   "metadata": {},
   "outputs": [
    {
     "data": {
      "text/plain": [
       "<function matplotlib.pyplot.show(close=None, block=None)>"
      ]
     },
     "execution_count": 22,
     "metadata": {},
     "output_type": "execute_result"
    },
    {
     "data": {
      "image/png": "[encoded data removed]",
      "text/plain": [
       "<Figure size 432x288 with 1 Axes>"
      ]
     },
     "metadata": {
      "needs_background": "light"
     },
     "output_type": "display_data"
    }
   ],
   "source": [
    "plt.scatter(train['heatingorsystemtypeid'],train['logerror'])\n",
    "plt.show"
   ]
  },
  {
   "cell_type": "markdown",
   "id": "9b68e417",
   "metadata": {},
   "source": [
    "Key Takeaway: \n",
    "- This feature is not going to useful as the majority of data falls under two categories of which seem to have similar distribution of log errors"
   ]
  },
  {
   "cell_type": "code",
   "execution_count": 23,
   "id": "725ded51",
   "metadata": {},
   "outputs": [
    {
     "data": {
      "text/plain": [
       "<function matplotlib.pyplot.show(close=None, block=None)>"
      ]
     },
     "execution_count": 23,
     "metadata": {},
     "output_type": "execute_result"
    },
    {
     "data": {
      "image/png": "[encoded data removed]",
      "text/plain": [
       "<Figure size 432x288 with 1 Axes>"
      ]
     },
     "metadata": {
      "needs_background": "light"
     },
     "output_type": "display_data"
    }
   ],
   "source": [
    "plt.scatter(train['latitude'],train['logerror'])\n",
    "plt.show"
   ]
  },
  {
   "cell_type": "code",
   "execution_count": 24,
   "id": "880e2fc6",
   "metadata": {},
   "outputs": [
    {
     "data": {
      "text/plain": [
       "<function matplotlib.pyplot.show(close=None, block=None)>"
      ]
     },
     "execution_count": 24,
     "metadata": {},
     "output_type": "execute_result"
    },
    {
     "data": {
      "image/png": "[encoded data removed]",
      "text/plain": [
       "<Figure size 432x288 with 1 Axes>"
      ]
     },
     "metadata": {
      "needs_background": "light"
     },
     "output_type": "display_data"
    }
   ],
   "source": [
    "plt.scatter(train['longitude'],train['logerror'])\n",
    "plt.show"
   ]
  },
  {
   "cell_type": "code",
   "execution_count": 25,
   "id": "eb0955f7",
   "metadata": {},
   "outputs": [
    {
     "data": {
      "text/plain": [
       "<function matplotlib.pyplot.show(close=None, block=None)>"
      ]
     },
     "execution_count": 25,
     "metadata": {},
     "output_type": "execute_result"
    },
    {
     "data": {
      "image/png": "[encoded data removed]",
      "text/plain": [
       "<Figure size 432x288 with 1 Axes>"
      ]
     },
     "metadata": {
      "needs_background": "light"
     },
     "output_type": "display_data"
    }
   ],
   "source": [
    "#How can I place a heat map over the longitude and latitude to see how high the \n",
    "#log error is \n",
    "plt.scatter(train['longitude'], train['latitude'])\n",
    "plt.show"
   ]
  },
  {
   "cell_type": "markdown",
   "id": "e76daadb",
   "metadata": {},
   "source": [
    "### If outliers are dropped what will the spread look like?"
   ]
  },
  {
   "cell_type": "code",
   "execution_count": 26,
   "id": "7618b88a",
   "metadata": {},
   "outputs": [
    {
     "data": {
      "text/plain": [
       "<function matplotlib.pyplot.show(close=None, block=None)>"
      ]
     },
     "execution_count": 26,
     "metadata": {},
     "output_type": "execute_result"
    },
    {
     "data": {
      "image/png": "[encoded data removed]",
      "text/plain": [
       "<Figure size 432x288 with 1 Axes>"
      ]
     },
     "metadata": {
      "needs_background": "light"
     },
     "output_type": "display_data"
    }
   ],
   "source": [
    "plt.scatter(train['lotsizesquarefeet'],train['logerror'])\n",
    "plt.show"
   ]
  },
  {
   "cell_type": "code",
   "execution_count": 27,
   "id": "d03107ba",
   "metadata": {},
   "outputs": [],
   "source": [
    "train.drop(train.index[train['lotsizesquarefeet'] > 1], inplace = True)"
   ]
  },
  {
   "cell_type": "code",
   "execution_count": 28,
   "id": "4c90c180",
   "metadata": {},
   "outputs": [],
   "source": [
    "train = train.reset_index()"
   ]
  },
  {
   "cell_type": "code",
   "execution_count": 29,
   "id": "e9155855",
   "metadata": {},
   "outputs": [],
   "source": [
    "#research np.where "
   ]
  },
  {
   "cell_type": "code",
   "execution_count": 30,
   "id": "1126f3aa",
   "metadata": {},
   "outputs": [
    {
     "data": {
      "text/plain": [
       "<function matplotlib.pyplot.show(close=None, block=None)>"
      ]
     },
     "execution_count": 30,
     "metadata": {},
     "output_type": "execute_result"
    },
    {
     "data": {
      "image/png": "[encoded data removed]",
      "text/plain": [
       "<Figure size 432x288 with 1 Axes>"
      ]
     },
     "metadata": {
      "needs_background": "light"
     },
     "output_type": "display_data"
    }
   ],
   "source": [
    "plt.scatter(train['lotsizesquarefeet'],train['logerror'])\n",
    "plt.show"
   ]
  },
  {
   "cell_type": "code",
   "execution_count": 31,
   "id": "0893e43a",
   "metadata": {},
   "outputs": [
    {
     "data": {
      "text/plain": [
       "<function matplotlib.pyplot.show(close=None, block=None)>"
      ]
     },
     "execution_count": 31,
     "metadata": {},
     "output_type": "execute_result"
    },
    {
     "data": {
      "image/png": "[encoded data removed]",
      "text/plain": [
       "<Figure size 432x288 with 1 Axes>"
      ]
     },
     "metadata": {
      "needs_background": "light"
     },
     "output_type": "display_data"
    }
   ],
   "source": [
    "plt.scatter(train['propertycountylandusecode'],train['logerror'])\n",
    "plt.show"
   ]
  },
  {
   "cell_type": "markdown",
   "id": "14878831",
   "metadata": {},
   "source": [
    "- How many different propertycountylandusecodes are there? What percentage have a small range of log errors?"
   ]
  },
  {
   "cell_type": "code",
   "execution_count": 32,
   "id": "32c8b37b",
   "metadata": {},
   "outputs": [
    {
     "data": {
      "text/plain": [
       "34      563\n",
       "1129    494\n",
       "010C    331\n",
       "0100    125\n",
       "012C     82\n",
       "010E     42\n",
       "010D     32\n",
       "0101     23\n",
       "01HC     18\n",
       "01DC     17\n",
       "1128     12\n",
       "010G      7\n",
       "0200      7\n",
       "122       7\n",
       "1         7\n",
       "0103      4\n",
       "0141      3\n",
       "0108      2\n",
       "0130      1\n",
       "010M      1\n",
       "0104      1\n",
       "012E      1\n",
       "Name: propertycountylandusecode, dtype: int64"
      ]
     },
     "execution_count": 32,
     "metadata": {},
     "output_type": "execute_result"
    }
   ],
   "source": [
    "#The outliers are significantly impacting this graph\n",
    "train.propertycountylandusecode.value_counts()"
   ]
  },
  {
   "cell_type": "code",
   "execution_count": 33,
   "id": "37290cc4",
   "metadata": {},
   "outputs": [
    {
     "data": {
      "text/plain": [
       "<function matplotlib.pyplot.show(close=None, block=None)>"
      ]
     },
     "execution_count": 33,
     "metadata": {},
     "output_type": "execute_result"
    },
    {
     "data": {
      "image/png": "[encoded data removed]",
      "text/plain": [
       "<Figure size 432x288 with 1 Axes>"
      ]
     },
     "metadata": {
      "needs_background": "light"
     },
     "output_type": "display_data"
    }
   ],
   "source": [
    "plt.scatter(train['propertylandusetypeid'],train['logerror'])\n",
    "plt.show"
   ]
  },
  {
   "cell_type": "code",
   "execution_count": 34,
   "id": "df32d93c",
   "metadata": {},
   "outputs": [
    {
     "data": {
      "text/plain": [
       "<function matplotlib.pyplot.show(close=None, block=None)>"
      ]
     },
     "execution_count": 34,
     "metadata": {},
     "output_type": "execute_result"
    },
    {
     "data": {
      "image/png": "[encoded data removed]",
      "text/plain": [
       "<Figure size 432x288 with 1 Axes>"
      ]
     },
     "metadata": {
      "needs_background": "light"
     },
     "output_type": "display_data"
    }
   ],
   "source": [
    "plt.scatter(train['rawcensustractandblock'],train['logerror'])\n",
    "plt.show"
   ]
  },
  {
   "cell_type": "code",
   "execution_count": 35,
   "id": "51f2efab",
   "metadata": {},
   "outputs": [
    {
     "data": {
      "text/plain": [
       "<function matplotlib.pyplot.show(close=None, block=None)>"
      ]
     },
     "execution_count": 35,
     "metadata": {},
     "output_type": "execute_result"
    },
    {
     "data": {
      "image/png": "[encoded data removed]",
      "text/plain": [
       "<Figure size 432x288 with 1 Axes>"
      ]
     },
     "metadata": {
      "needs_background": "light"
     },
     "output_type": "display_data"
    }
   ],
   "source": [
    "plt.scatter(train['regionidcity'],train['logerror'])\n",
    "plt.show"
   ]
  },
  {
   "cell_type": "code",
   "execution_count": 36,
   "id": "8aba1095",
   "metadata": {},
   "outputs": [
    {
     "data": {
      "text/plain": [
       "<function matplotlib.pyplot.show(close=None, block=None)>"
      ]
     },
     "execution_count": 36,
     "metadata": {},
     "output_type": "execute_result"
    },
    {
     "data": {
      "image/png": "[encoded data removed]",
      "text/plain": [
       "<Figure size 432x288 with 1 Axes>"
      ]
     },
     "metadata": {
      "needs_background": "light"
     },
     "output_type": "display_data"
    }
   ],
   "source": [
    "plt.scatter(train['regionidcounty'],train['logerror'])\n",
    "plt.show"
   ]
  },
  {
   "cell_type": "code",
   "execution_count": 37,
   "id": "1b500bf3",
   "metadata": {},
   "outputs": [
    {
     "data": {
      "text/plain": [
       "<function matplotlib.pyplot.show(close=None, block=None)>"
      ]
     },
     "execution_count": 37,
     "metadata": {},
     "output_type": "execute_result"
    },
    {
     "data": {
      "image/png": "[encoded data removed]",
      "text/plain": [
       "<Figure size 432x288 with 1 Axes>"
      ]
     },
     "metadata": {
      "needs_background": "light"
     },
     "output_type": "display_data"
    }
   ],
   "source": [
    "plt.scatter(train['regionidzip'],train['logerror'])\n",
    "plt.show"
   ]
  },
  {
   "cell_type": "code",
   "execution_count": 38,
   "id": "a9666fc8",
   "metadata": {},
   "outputs": [
    {
     "data": {
      "text/plain": [
       "<function matplotlib.pyplot.show(close=None, block=None)>"
      ]
     },
     "execution_count": 38,
     "metadata": {},
     "output_type": "execute_result"
    },
    {
     "data": {
      "image/png": "[encoded data removed]",
      "text/plain": [
       "<Figure size 432x288 with 1 Axes>"
      ]
     },
     "metadata": {
      "needs_background": "light"
     },
     "output_type": "display_data"
    }
   ],
   "source": [
    "plt.scatter(train['roomcnt'],train['logerror'])\n",
    "plt.show"
   ]
  },
  {
   "cell_type": "code",
   "execution_count": 39,
   "id": "e55274c9",
   "metadata": {},
   "outputs": [
    {
     "data": {
      "text/plain": [
       "<function matplotlib.pyplot.show(close=None, block=None)>"
      ]
     },
     "execution_count": 39,
     "metadata": {},
     "output_type": "execute_result"
    },
    {
     "data": {
      "image/png": "[encoded data removed]",
      "text/plain": [
       "<Figure size 432x288 with 1 Axes>"
      ]
     },
     "metadata": {
      "needs_background": "light"
     },
     "output_type": "display_data"
    }
   ],
   "source": [
    "plt.scatter(train['unitcnt'],train['logerror'])\n",
    "plt.show"
   ]
  },
  {
   "cell_type": "code",
   "execution_count": 40,
   "id": "f373325e",
   "metadata": {},
   "outputs": [
    {
     "data": {
      "text/plain": [
       "<function matplotlib.pyplot.show(close=None, block=None)>"
      ]
     },
     "execution_count": 40,
     "metadata": {},
     "output_type": "execute_result"
    },
    {
     "data": {
      "image/png": "[encoded data removed]",
      "text/plain": [
       "<Figure size 432x288 with 1 Axes>"
      ]
     },
     "metadata": {
      "needs_background": "light"
     },
     "output_type": "display_data"
    }
   ],
   "source": [
    "plt.scatter(train['yearbuilt'],train['logerror'])\n",
    "plt.show"
   ]
  },
  {
   "cell_type": "markdown",
   "id": "760aad21",
   "metadata": {},
   "source": [
    "### Will any feature that includes tax leak information?"
   ]
  },
  {
   "cell_type": "code",
   "execution_count": 41,
   "id": "8c4e10d8",
   "metadata": {},
   "outputs": [
    {
     "data": {
      "text/plain": [
       "<function matplotlib.pyplot.show(close=None, block=None)>"
      ]
     },
     "execution_count": 41,
     "metadata": {},
     "output_type": "execute_result"
    },
    {
     "data": {
      "image/png": "[encoded data removed]",
      "text/plain": [
       "<Figure size 432x288 with 1 Axes>"
      ]
     },
     "metadata": {
      "needs_background": "light"
     },
     "output_type": "display_data"
    }
   ],
   "source": [
    "plt.scatter(train['structuretaxvaluedollarcnt'],train['logerror'])\n",
    "plt.show"
   ]
  },
  {
   "cell_type": "code",
   "execution_count": 42,
   "id": "576cf284",
   "metadata": {},
   "outputs": [
    {
     "data": {
      "text/plain": [
       "<function matplotlib.pyplot.show(close=None, block=None)>"
      ]
     },
     "execution_count": 42,
     "metadata": {},
     "output_type": "execute_result"
    },
    {
     "data": {
      "image/png": "[encoded data removed]",
      "text/plain": [
       "<Figure size 432x288 with 1 Axes>"
      ]
     },
     "metadata": {
      "needs_background": "light"
     },
     "output_type": "display_data"
    }
   ],
   "source": [
    "plt.scatter(train['taxvaluedollarcnt'],train['logerror'])\n",
    "plt.show"
   ]
  },
  {
   "cell_type": "code",
   "execution_count": 43,
   "id": "337ccb26",
   "metadata": {},
   "outputs": [
    {
     "data": {
      "text/plain": [
       "<function matplotlib.pyplot.show(close=None, block=None)>"
      ]
     },
     "execution_count": 43,
     "metadata": {},
     "output_type": "execute_result"
    },
    {
     "data": {
      "image/png": "[encoded data removed]",
      "text/plain": [
       "<Figure size 432x288 with 1 Axes>"
      ]
     },
     "metadata": {
      "needs_background": "light"
     },
     "output_type": "display_data"
    }
   ],
   "source": [
    "plt.scatter(train['landtaxvaluedollarcnt'],train['logerror'])\n",
    "plt.show"
   ]
  },
  {
   "cell_type": "code",
   "execution_count": 44,
   "id": "6d59c9eb",
   "metadata": {},
   "outputs": [
    {
     "data": {
      "text/plain": [
       "<function matplotlib.pyplot.show(close=None, block=None)>"
      ]
     },
     "execution_count": 44,
     "metadata": {},
     "output_type": "execute_result"
    },
    {
     "data": {
      "image/png": "[encoded data removed]",
      "text/plain": [
       "<Figure size 432x288 with 1 Axes>"
      ]
     },
     "metadata": {
      "needs_background": "light"
     },
     "output_type": "display_data"
    }
   ],
   "source": [
    "plt.scatter(train['taxamount'],train['logerror'])\n",
    "plt.show"
   ]
  },
  {
   "cell_type": "code",
   "execution_count": 45,
   "id": "94ef7b70",
   "metadata": {},
   "outputs": [
    {
     "data": {
      "text/plain": [
       "<function matplotlib.pyplot.show(close=None, block=None)>"
      ]
     },
     "execution_count": 45,
     "metadata": {},
     "output_type": "execute_result"
    },
    {
     "data": {
      "image/png": "[encoded data removed]",
      "text/plain": [
       "<Figure size 432x288 with 1 Axes>"
      ]
     },
     "metadata": {
      "needs_background": "light"
     },
     "output_type": "display_data"
    }
   ],
   "source": [
    "plt.scatter(train['censustractandblock'],train['logerror'])\n",
    "plt.show"
   ]
  },
  {
   "cell_type": "code",
   "execution_count": 46,
   "id": "62a5e587",
   "metadata": {},
   "outputs": [
    {
     "data": {
      "text/plain": [
       "<function matplotlib.pyplot.show(close=None, block=None)>"
      ]
     },
     "execution_count": 46,
     "metadata": {},
     "output_type": "execute_result"
    },
    {
     "data": {
      "image/png": "[encoded data removed]",
      "text/plain": [
       "<Figure size 432x288 with 1 Axes>"
      ]
     },
     "metadata": {
      "needs_background": "light"
     },
     "output_type": "display_data"
    }
   ],
   "source": [
    "plt.scatter(train['calculatedfinishedsquarefeet'],train['logerror'])\n",
    "plt.show"
   ]
  },
  {
   "cell_type": "code",
   "execution_count": 47,
   "id": "40c85e48",
   "metadata": {},
   "outputs": [
    {
     "data": {
      "text/plain": [
       "<function matplotlib.pyplot.show(close=None, block=None)>"
      ]
     },
     "execution_count": 47,
     "metadata": {},
     "output_type": "execute_result"
    },
    {
     "data": {
      "image/png": "[encoded data removed]",
      "text/plain": [
       "<Figure size 432x288 with 1 Axes>"
      ]
     },
     "metadata": {
      "needs_background": "light"
     },
     "output_type": "display_data"
    }
   ],
   "source": [
    "plt.scatter(train['finishedsquarefeet12'],train['logerror'])\n",
    "plt.show"
   ]
  },
  {
   "cell_type": "markdown",
   "id": "e2f7ac46",
   "metadata": {},
   "source": [
    "### Features that might be useful in clustering \n",
    "- Bedroom count \n",
    "- Bathroom count \n",
    "- calculatedbathnbr\n",
    "- fullbathcnt\n",
    "- roomcnt\n",
    "- yearbuilt\n",
    "- calculatedfinishedsquarefeet \n",
    "- finishedsquarefeet12 \n"
   ]
  },
  {
   "cell_type": "code",
   "execution_count": 48,
   "id": "760dc1b4",
   "metadata": {},
   "outputs": [
    {
     "data": {
      "text/plain": [
       "(1780, 37)"
      ]
     },
     "execution_count": 48,
     "metadata": {},
     "output_type": "execute_result"
    }
   ],
   "source": [
    "train.shape"
   ]
  },
  {
   "cell_type": "code",
   "execution_count": 49,
   "id": "17cb05dd",
   "metadata": {
    "scrolled": true
   },
   "outputs": [
    {
     "data": {
      "text/plain": [
       "<function matplotlib.pyplot.show(close=None, block=None)>"
      ]
     },
     "execution_count": 49,
     "metadata": {},
     "output_type": "execute_result"
    },
    {
     "data": {
      "image/png": "[encoded data removed]",
      "text/plain": [
       "<Figure size 432x288 with 1 Axes>"
      ]
     },
     "metadata": {
      "needs_background": "light"
     },
     "output_type": "display_data"
    }
   ],
   "source": [
    "sns.scatterplot(x = 'bathroomcnt', y='yearbuilt', data=train, hue='logerror_bin')\n",
    "plt.title('Bathroom Count Plotted Against Year Built')\n",
    "plt.show"
   ]
  },
  {
   "cell_type": "code",
   "execution_count": 50,
   "id": "1c49da13",
   "metadata": {},
   "outputs": [
    {
     "data": {
      "text/plain": [
       "<function matplotlib.pyplot.show(close=None, block=None)>"
      ]
     },
     "execution_count": 50,
     "metadata": {},
     "output_type": "execute_result"
    },
    {
     "data": {
      "image/png": "[encoded data removed]",
      "text/plain": [
       "<Figure size 432x288 with 1 Axes>"
      ]
     },
     "metadata": {
      "needs_background": "light"
     },
     "output_type": "display_data"
    }
   ],
   "source": [
    "sns.scatterplot(x = 'bedroomcnt', y='yearbuilt', data=train, hue='logerror_bin')\n",
    "plt.title('Bedroom Count Plotted Against Year Built')\n",
    "plt.show"
   ]
  },
  {
   "cell_type": "code",
   "execution_count": 51,
   "id": "0c892def",
   "metadata": {},
   "outputs": [
    {
     "data": {
      "text/plain": [
       "<function matplotlib.pyplot.show(close=None, block=None)>"
      ]
     },
     "execution_count": 51,
     "metadata": {},
     "output_type": "execute_result"
    },
    {
     "data": {
      "image/png": "[encoded data removed]",
      "text/plain": [
       "<Figure size 432x288 with 1 Axes>"
      ]
     },
     "metadata": {
      "needs_background": "light"
     },
     "output_type": "display_data"
    }
   ],
   "source": [
    "sns.scatterplot(x = 'taxamount', y='yearbuilt', data=train, hue='logerror_bin')\n",
    "plt.title('Calculated finished square feet Plotted Against Year Built')\n",
    "plt.show"
   ]
  },
  {
   "cell_type": "code",
   "execution_count": 52,
   "id": "85b5f477",
   "metadata": {},
   "outputs": [
    {
     "data": {
      "text/plain": [
       "<function matplotlib.pyplot.show(close=None, block=None)>"
      ]
     },
     "execution_count": 52,
     "metadata": {},
     "output_type": "execute_result"
    },
    {
     "data": {
      "image/png": "[encoded data removed]",
      "text/plain": [
       "<Figure size 432x288 with 1 Axes>"
      ]
     },
     "metadata": {
      "needs_background": "light"
     },
     "output_type": "display_data"
    }
   ],
   "source": [
    "sns.scatterplot(x = 'fullbathcnt', y='yearbuilt', data=train, hue='logerror_bin')\n",
    "plt.title('Full bath Count Plotted Against Year Built')\n",
    "plt.show"
   ]
  },
  {
   "cell_type": "code",
   "execution_count": 53,
   "id": "dba626cd",
   "metadata": {},
   "outputs": [
    {
     "data": {
      "text/plain": [
       "<function matplotlib.pyplot.show(close=None, block=None)>"
      ]
     },
     "execution_count": 53,
     "metadata": {},
     "output_type": "execute_result"
    },
    {
     "data": {
      "image/png": "[encoded data removed]",
      "text/plain": [
       "<Figure size 432x288 with 1 Axes>"
      ]
     },
     "metadata": {
      "needs_background": "light"
     },
     "output_type": "display_data"
    }
   ],
   "source": [
    "sns.scatterplot(x = 'roomcnt', y='yearbuilt', data=train, hue='logerror_bin')\n",
    "plt.title('Room Count Plotted Against Year Built')\n",
    "plt.show"
   ]
  },
  {
   "cell_type": "code",
   "execution_count": 54,
   "id": "77778cd4",
   "metadata": {},
   "outputs": [
    {
     "data": {
      "text/plain": [
       "<function matplotlib.pyplot.show(close=None, block=None)>"
      ]
     },
     "execution_count": 54,
     "metadata": {},
     "output_type": "execute_result"
    },
    {
     "data": {
      "image/png": "[encoded data removed]",
      "text/plain": [
       "<Figure size 432x288 with 1 Axes>"
      ]
     },
     "metadata": {
      "needs_background": "light"
     },
     "output_type": "display_data"
    }
   ],
   "source": [
    "sns.scatterplot(x = 'finishedsquarefeet12', y='yearbuilt', data=train, hue='logerror_bin')\n",
    "plt.title('Finished Square Feet Plotted Against Year Built')\n",
    "plt.show"
   ]
  },
  {
   "cell_type": "code",
   "execution_count": 55,
   "id": "d1d25e94",
   "metadata": {},
   "outputs": [
    {
     "data": {
      "text/plain": [
       "<function matplotlib.pyplot.show(close=None, block=None)>"
      ]
     },
     "execution_count": 55,
     "metadata": {},
     "output_type": "execute_result"
    },
    {
     "data": {
      "image/png": "[encoded data removed]",
      "text/plain": [
       "<Figure size 432x288 with 1 Axes>"
      ]
     },
     "metadata": {
      "needs_background": "light"
     },
     "output_type": "display_data"
    }
   ],
   "source": [
    "sns.scatterplot(x = 'latitude', y='longitude', data=train, hue='logerror_bin')\n",
    "plt.title('Latitude Plotted against longitude')\n",
    "plt.show"
   ]
  },
  {
   "cell_type": "code",
   "execution_count": 56,
   "id": "0e42661c",
   "metadata": {},
   "outputs": [
    {
     "data": {
      "text/plain": [
       "(1780, 37)"
      ]
     },
     "execution_count": 56,
     "metadata": {},
     "output_type": "execute_result"
    }
   ],
   "source": [
    "train.shape"
   ]
  },
  {
   "cell_type": "code",
   "execution_count": 57,
   "id": "bfac62da",
   "metadata": {},
   "outputs": [
    {
     "data": {
      "text/plain": [
       "<function seaborn.matrix.clustermap(data, *, pivot_kws=None, method='average', metric='euclidean', z_score=None, standard_scale=None, figsize=(10, 10), cbar_kws=None, row_cluster=True, col_cluster=True, row_linkage=None, col_linkage=None, row_colors=None, col_colors=None, mask=None, dendrogram_ratio=0.2, colors_ratio=0.03, cbar_pos=(0.02, 0.8, 0.05, 0.18), tree_kws=None, **kwargs)>"
      ]
     },
     "execution_count": 57,
     "metadata": {},
     "output_type": "execute_result"
    }
   ],
   "source": [
    "sns.clustermap"
   ]
  },
  {
   "cell_type": "code",
   "execution_count": 58,
   "id": "950276a4",
   "metadata": {},
   "outputs": [],
   "source": [
    "train_Ventura = train[train.location == 'Ventura']\n",
    "train_LA = train[train.location == 'LA']\n",
    "train_Orange = train[train.location == 'Orange']"
   ]
  },
  {
   "cell_type": "code",
   "execution_count": 59,
   "id": "9dce2ba0",
   "metadata": {},
   "outputs": [
    {
     "data": {
      "text/plain": [
       "(506, 37)"
      ]
     },
     "execution_count": 59,
     "metadata": {},
     "output_type": "execute_result"
    }
   ],
   "source": [
    "train_Ventura.shape"
   ]
  },
  {
   "cell_type": "code",
   "execution_count": 60,
   "id": "d91c96ab",
   "metadata": {},
   "outputs": [
    {
     "data": {
      "text/plain": [
       "(697, 37)"
      ]
     },
     "execution_count": 60,
     "metadata": {},
     "output_type": "execute_result"
    }
   ],
   "source": [
    "train_LA.shape"
   ]
  },
  {
   "cell_type": "code",
   "execution_count": 61,
   "id": "7cb1aca3",
   "metadata": {},
   "outputs": [
    {
     "data": {
      "text/plain": [
       "(577, 37)"
      ]
     },
     "execution_count": 61,
     "metadata": {},
     "output_type": "execute_result"
    }
   ],
   "source": [
    "train_Orange.shape"
   ]
  },
  {
   "cell_type": "code",
   "execution_count": 62,
   "id": "89c49956",
   "metadata": {},
   "outputs": [
    {
     "data": {
      "text/plain": [
       "(-0.06, 0.06]    385\n",
       "(0.06, 6.0]       83\n",
       "(-6.0, -0.06]     38\n",
       "Name: logerror_bin, dtype: int64"
      ]
     },
     "execution_count": 62,
     "metadata": {},
     "output_type": "execute_result"
    }
   ],
   "source": [
    "train_Ventura.logerror_bin.value_counts()"
   ]
  },
  {
   "cell_type": "code",
   "execution_count": 63,
   "id": "7f943390",
   "metadata": {},
   "outputs": [
    {
     "data": {
      "text/plain": [
       "(-0.06, 0.06]    421\n",
       "(0.06, 6.0]       86\n",
       "(-6.0, -0.06]     70\n",
       "Name: logerror_bin, dtype: int64"
      ]
     },
     "execution_count": 63,
     "metadata": {},
     "output_type": "execute_result"
    }
   ],
   "source": [
    "train_Orange.logerror_bin.value_counts()"
   ]
  },
  {
   "cell_type": "code",
   "execution_count": 64,
   "id": "b1fe8b5d",
   "metadata": {},
   "outputs": [
    {
     "data": {
      "text/plain": [
       "(-0.06, 0.06]    530\n",
       "(0.06, 6.0]       90\n",
       "(-6.0, -0.06]     77\n",
       "Name: logerror_bin, dtype: int64"
      ]
     },
     "execution_count": 64,
     "metadata": {},
     "output_type": "execute_result"
    }
   ],
   "source": [
    "train_LA.logerror_bin.value_counts()"
   ]
  },
  {
   "cell_type": "code",
   "execution_count": 65,
   "id": "8b17a2a3",
   "metadata": {},
   "outputs": [],
   "source": [
    "train_onebath = train[train.bathroomcnt == 1]\n",
    "train_overonebath = train[train.bathroomcnt == 1.5]\n",
    "train_twobath = train[train.bathroomcnt == 2]\n",
    "train_overtwobath = train[train.bathroomcnt == 2.5]\n",
    "train_threebath = train[train.bathroomcnt == 3]\n",
    "train_overthreebath = train[train.bathroomcnt == 3.5]\n",
    "train_fourbath = train[train.bathroomcnt == 4]\n",
    "train_overfourbath = train[train.bathroomcnt == 4.5]\n",
    "train_fivebath = train[train.bathroomcnt == 5]"
   ]
  },
  {
   "cell_type": "code",
   "execution_count": 66,
   "id": "825dea23",
   "metadata": {},
   "outputs": [
    {
     "data": {
      "text/plain": [
       "count               1,780.00\n",
       "mean                1,990.37\n",
       "std                    19.07\n",
       "min                 1,885.00\n",
       "25%                 1,976.00\n",
       "50%                 1,989.00\n",
       "75%                 2,008.00\n",
       "max                 2,015.00\n",
       "Name: yearbuilt, dtype: float64"
      ]
     },
     "execution_count": 66,
     "metadata": {},
     "output_type": "execute_result"
    }
   ],
   "source": [
    "train.yearbuilt.describe()"
   ]
  },
  {
   "cell_type": "code",
   "execution_count": 67,
   "id": "54810fd8",
   "metadata": {},
   "outputs": [],
   "source": [
    "train['logerror_bin'] = pd.cut(train.logerror, [-6, -0.06, 0.06, 6])"
   ]
  },
  {
   "cell_type": "code",
   "execution_count": 68,
   "id": "c822aeeb",
   "metadata": {},
   "outputs": [],
   "source": [
    "#return this series as a series of strings .astype(string)\n",
    "train['yearbuilt_bin'] = pd.cut(train.yearbuilt, [1878, 1952, 1966, 1984, 2015]).astype('string')"
   ]
  },
  {
   "cell_type": "code",
   "execution_count": 69,
   "id": "65998267",
   "metadata": {},
   "outputs": [
    {
     "data": {
      "text/plain": [
       "(1984, 2015]    1078\n",
       "(1966, 1984]     594\n",
       "(1952, 1966]      62\n",
       "(1878, 1952]      46\n",
       "Name: yearbuilt_bin, dtype: Int64"
      ]
     },
     "execution_count": 69,
     "metadata": {},
     "output_type": "execute_result"
    }
   ],
   "source": [
    "train.yearbuilt_bin.value_counts()"
   ]
  },
  {
   "cell_type": "code",
   "execution_count": 70,
   "id": "f6d21696",
   "metadata": {},
   "outputs": [
    {
     "name": "stdout",
     "output_type": "stream",
     "text": [
      "<class 'pandas.core.frame.DataFrame'>\n",
      "RangeIndex: 1780 entries, 0 to 1779\n",
      "Data columns (total 38 columns):\n",
      " #   Column                        Non-Null Count  Dtype   \n",
      "---  ------                        --------------  -----   \n",
      " 0   index                         1780 non-null   int64   \n",
      " 1   id                            1780 non-null   int64   \n",
      " 2   parcelid                      1780 non-null   int64   \n",
      " 3   bathroomcnt                   1780 non-null   float64 \n",
      " 4   bedroomcnt                    1780 non-null   float64 \n",
      " 5   buildingqualitytypeid         640 non-null    float64 \n",
      " 6   calculatedbathnbr             1780 non-null   float64 \n",
      " 7   calculatedfinishedsquarefeet  1780 non-null   float64 \n",
      " 8   finishedsquarefeet12          1773 non-null   float64 \n",
      " 9   fips                          1780 non-null   float64 \n",
      " 10  fullbathcnt                   1780 non-null   float64 \n",
      " 11  heatingorsystemtypeid         1236 non-null   float64 \n",
      " 12  latitude                      1780 non-null   float64 \n",
      " 13  longitude                     1780 non-null   float64 \n",
      " 14  lotsizesquarefeet             0 non-null      float64 \n",
      " 15  propertycountylandusecode     1780 non-null   object  \n",
      " 16  propertylandusetypeid         1780 non-null   float64 \n",
      " 17  propertyzoningdesc            688 non-null    object  \n",
      " 18  rawcensustractandblock        1780 non-null   float64 \n",
      " 19  regionidcity                  1747 non-null   float64 \n",
      " 20  regionidcounty                1780 non-null   float64 \n",
      " 21  regionidzip                   1775 non-null   float64 \n",
      " 22  roomcnt                       1780 non-null   float64 \n",
      " 23  unitcnt                       681 non-null    float64 \n",
      " 24  yearbuilt                     1780 non-null   float64 \n",
      " 25  structuretaxvaluedollarcnt    1775 non-null   float64 \n",
      " 26  taxvaluedollarcnt             1780 non-null   float64 \n",
      " 27  assessmentyear                1780 non-null   float64 \n",
      " 28  landtaxvaluedollarcnt         1780 non-null   float64 \n",
      " 29  taxamount                     1780 non-null   float64 \n",
      " 30  censustractandblock           1732 non-null   float64 \n",
      " 31  logerror                      1780 non-null   float64 \n",
      " 32  transactiondate               1780 non-null   object  \n",
      " 33  heatingorsystemdesc           1236 non-null   object  \n",
      " 34  propertylandusedesc           1780 non-null   object  \n",
      " 35  location                      1780 non-null   object  \n",
      " 36  logerror_bin                  1780 non-null   category\n",
      " 37  yearbuilt_bin                 1780 non-null   string  \n",
      "dtypes: category(1), float64(27), int64(3), object(6), string(1)\n",
      "memory usage: 516.5+ KB\n"
     ]
    }
   ],
   "source": [
    "#how to get a subset to another \n",
    "train.info()"
   ]
  },
  {
   "cell_type": "code",
   "execution_count": 71,
   "id": "4c003ece",
   "metadata": {},
   "outputs": [],
   "source": [
    "train_oldesthomes = train[train.yearbuilt_bin == '(1878, 1952]']\n",
    "train_olderhomes = train[train.yearbuilt_bin == '(1952, 1966]']\n",
    "train_newerhomes = train[train.yearbuilt_bin == '(1966, 1984]']\n",
    "train_newesthomes = train[train.yearbuilt_bin == '(1984, 2015]']"
   ]
  },
  {
   "cell_type": "code",
   "execution_count": 72,
   "id": "057675c3",
   "metadata": {},
   "outputs": [
    {
     "data": {
      "text/plain": [
       "(46, 38)"
      ]
     },
     "execution_count": 72,
     "metadata": {},
     "output_type": "execute_result"
    }
   ],
   "source": [
    "train_oldesthomes.shape"
   ]
  },
  {
   "cell_type": "code",
   "execution_count": 73,
   "id": "a93fcf09",
   "metadata": {},
   "outputs": [
    {
     "data": {
      "text/plain": [
       "(62, 38)"
      ]
     },
     "execution_count": 73,
     "metadata": {},
     "output_type": "execute_result"
    }
   ],
   "source": [
    "train_olderhomes.shape"
   ]
  },
  {
   "cell_type": "code",
   "execution_count": 74,
   "id": "59c52f7f",
   "metadata": {},
   "outputs": [
    {
     "data": {
      "text/plain": [
       "(594, 38)"
      ]
     },
     "execution_count": 74,
     "metadata": {},
     "output_type": "execute_result"
    }
   ],
   "source": [
    "train_newerhomes.shape"
   ]
  },
  {
   "cell_type": "code",
   "execution_count": 75,
   "id": "c9c59a0e",
   "metadata": {},
   "outputs": [
    {
     "data": {
      "text/plain": [
       "(1078, 38)"
      ]
     },
     "execution_count": 75,
     "metadata": {},
     "output_type": "execute_result"
    }
   ],
   "source": [
    "train_newesthomes.shape"
   ]
  },
  {
   "cell_type": "markdown",
   "id": "50e47e45",
   "metadata": {},
   "source": [
    "### One Bath "
   ]
  },
  {
   "cell_type": "code",
   "execution_count": 76,
   "id": "c3e28ced",
   "metadata": {},
   "outputs": [
    {
     "data": {
      "text/plain": [
       "(-0.06, 0.06]                   0.72\n",
       "(-6.0, -0.06]                   0.15\n",
       "(0.06, 6.0]                     0.13\n",
       "Name: logerror_bin, dtype: float64"
      ]
     },
     "execution_count": 76,
     "metadata": {},
     "output_type": "execute_result"
    }
   ],
   "source": [
    "train_onebath.logerror_bin.value_counts(normalize=True)"
   ]
  },
  {
   "cell_type": "code",
   "execution_count": 77,
   "id": "38b472e4",
   "metadata": {},
   "outputs": [
    {
     "ename": "NameError",
     "evalue": "name 'data1' is not defined",
     "output_type": "error",
     "traceback": [
      "\u001b[0;31m---------------------------------------------------------------------------\u001b[0m",
      "\u001b[0;31mNameError\u001b[0m                                 Traceback (most recent call last)",
      "\u001b[0;32m/var/folders/lt/mq77_h29005b8q_dkwt9pz000000gn/T/ipykernel_46934/1840822148.py\u001b[0m in \u001b[0;36m<module>\u001b[0;34m\u001b[0m\n\u001b[1;32m      1\u001b[0m \u001b[0mfig\u001b[0m\u001b[0;34m,\u001b[0m \u001b[0;34m(\u001b[0m\u001b[0max1\u001b[0m\u001b[0;34m,\u001b[0m \u001b[0max2\u001b[0m\u001b[0;34m)\u001b[0m \u001b[0;34m=\u001b[0m \u001b[0mplt\u001b[0m\u001b[0;34m.\u001b[0m\u001b[0msubplots\u001b[0m\u001b[0;34m(\u001b[0m\u001b[0mnrows\u001b[0m\u001b[0;34m=\u001b[0m\u001b[0;36m1\u001b[0m\u001b[0;34m,\u001b[0m \u001b[0mncols\u001b[0m\u001b[0;34m=\u001b[0m\u001b[0;36m2\u001b[0m\u001b[0;34m)\u001b[0m\u001b[0;34m\u001b[0m\u001b[0;34m\u001b[0m\u001b[0m\n\u001b[1;32m      2\u001b[0m \u001b[0;34m\u001b[0m\u001b[0m\n\u001b[0;32m----> 3\u001b[0;31m \u001b[0max1\u001b[0m\u001b[0;34m.\u001b[0m\u001b[0mpie\u001b[0m\u001b[0;34m(\u001b[0m\u001b[0mdata1\u001b[0m\u001b[0;34m,\u001b[0m \u001b[0mlabels\u001b[0m \u001b[0;34m=\u001b[0m \u001b[0mlabels1\u001b[0m\u001b[0;34m,\u001b[0m \u001b[0mcolors\u001b[0m \u001b[0;34m=\u001b[0m \u001b[0mcolors\u001b[0m\u001b[0;34m,\u001b[0m \u001b[0mautopct\u001b[0m\u001b[0;34m=\u001b[0m\u001b[0;34m'%.0f%%'\u001b[0m\u001b[0;34m)\u001b[0m\u001b[0;34m\u001b[0m\u001b[0;34m\u001b[0m\u001b[0m\n\u001b[0m\u001b[1;32m      4\u001b[0m \u001b[0max1\u001b[0m\u001b[0;34m.\u001b[0m\u001b[0mset_title\u001b[0m\u001b[0;34m(\u001b[0m\u001b[0;34m'Log Error One bath'\u001b[0m\u001b[0;34m,\u001b[0m \u001b[0mfontdict\u001b[0m \u001b[0;34m=\u001b[0m \u001b[0;34m{\u001b[0m\u001b[0;34m'fontsize'\u001b[0m \u001b[0;34m:\u001b[0m \u001b[0;36m14\u001b[0m\u001b[0;34m}\u001b[0m\u001b[0;34m)\u001b[0m\u001b[0;34m\u001b[0m\u001b[0;34m\u001b[0m\u001b[0m\n\u001b[1;32m      5\u001b[0m \u001b[0mdata1\u001b[0m \u001b[0;34m=\u001b[0m \u001b[0;34m[\u001b[0m\u001b[0;36m65\u001b[0m\u001b[0;34m,\u001b[0m \u001b[0;36m18\u001b[0m\u001b[0;34m,\u001b[0m \u001b[0;36m17\u001b[0m\u001b[0;34m]\u001b[0m\u001b[0;34m\u001b[0m\u001b[0;34m\u001b[0m\u001b[0m\n",
      "\u001b[0;31mNameError\u001b[0m: name 'data1' is not defined"
     ]
    },
    {
     "data": {
      "image/png": "[encoded data removed]",
      "text/plain": [
       "<Figure size 432x288 with 2 Axes>"
      ]
     },
     "metadata": {
      "needs_background": "light"
     },
     "output_type": "display_data"
    }
   ],
   "source": [
    "fig, (ax1, ax2) = plt.subplots(nrows=1, ncols=2)\n",
    "\n",
    "ax1.pie(data1, labels = labels1, colors = colors, autopct='%.0f%%')\n",
    "ax1.set_title('Log Error One bath', fontdict = {'fontsize' : 14})\n",
    "data1 = [65, 18, 17]\n",
    "labels1 = ['Acceptable Range', 'Over Range', 'Under Range' ]\n",
    "colors = sns.color_palette('coolwarm')[0:5]\n",
    "\n",
    "ax2.set_title(\"Error by location\",  fontdict = {'fontsize' : 14})\n",
    "sns.scatterplot(x = 'latitude', y='longitude', data=train_onebath, hue='logerror_bin')\n",
    "\n",
    "\n",
    "plt.tight_layout()\n",
    "sns.set(rc = {'figure.figsize':(10,6)})\n"
   ]
  },
  {
   "cell_type": "code",
   "execution_count": null,
   "id": "784946eb",
   "metadata": {},
   "outputs": [],
   "source": [
    "fig, (ax1, ax2) = plt.subplots(nrows=1, ncols=2)\n",
    "\n",
    "ax1.pie(data1, labels = labels1, colors = colors, autopct='%.0f%%')\n",
    "ax1.set_title('Log Error One bath', fontdict = {'fontsize' : 14})\n",
    "data1 = [65, 18, 17]\n",
    "labels1 = ['Acceptable Range', 'Over Range', 'Under Range' ]\n",
    "colors = sns.color_palette('coolwarm')[0:5]\n",
    "\n",
    "ax2.set_title(\"Error by location\",  fontdict = {'fontsize' : 14})\n",
    "sns.scatterplot(x = 'latitude', y='longitude', data=train_onebath, hue='logerror_bin')\n",
    "\n",
    "\n",
    "plt.tight_layout()\n",
    "sns.set(rc = {'figure.figsize':(10,6)})"
   ]
  },
  {
   "cell_type": "code",
   "execution_count": null,
   "id": "a1f47bc5",
   "metadata": {},
   "outputs": [],
   "source": [
    "train_overonebath.logerror_bin.value_counts(normalize=True)"
   ]
  },
  {
   "cell_type": "code",
   "execution_count": null,
   "id": "335c11a2",
   "metadata": {},
   "outputs": [],
   "source": [
    "fig, (ax1, ax2) = plt.subplots(nrows=1, ncols=2)\n",
    "\n",
    "ax1.pie(data1, labels = labels1, colors = colors, autopct='%.0f%%')\n",
    "ax1.set_title('Log Error 1.5 bath', fontdict = {'fontsize' : 14})\n",
    "data1 = [78, 13, 9]\n",
    "labels1 = ['Acceptable Range', 'Over Range', 'Under Range' ]\n",
    "colors = sns.color_palette('coolwarm')[0:5]\n",
    "\n",
    "ax2.set_title(\"Error by location\",  fontdict = {'fontsize' : 14})\n",
    "sns.scatterplot(x = 'latitude', y='longitude', data=train_overonebath, hue='logerror_bin')\n",
    "\n",
    "\n",
    "plt.tight_layout()\n",
    "sns.set(rc = {'figure.figsize':(10,6)})\n"
   ]
  },
  {
   "cell_type": "code",
   "execution_count": null,
   "id": "c7f6b19c",
   "metadata": {},
   "outputs": [],
   "source": [
    "train_twobath.logerror_bin.value_counts(normalize=True)"
   ]
  },
  {
   "cell_type": "code",
   "execution_count": null,
   "id": "233a30f5",
   "metadata": {},
   "outputs": [],
   "source": [
    "fig, (ax1, ax2) = plt.subplots(nrows=1, ncols=2)\n",
    "\n",
    "ax1.pie(data1, labels = labels1, colors = colors, autopct='%.0f%%')\n",
    "ax1.set_title('Log Error 2 bath', fontdict = {'fontsize' : 14})\n",
    "data1 = [72, 15, 13]\n",
    "labels1 = ['Acceptable Range', 'Over Range', 'Under Range' ]\n",
    "colors = sns.color_palette('coolwarm')[0:5]\n",
    "\n",
    "ax2.set_title(\"Error by location\",  fontdict = {'fontsize' : 14})\n",
    "sns.scatterplot(x = 'latitude', y='longitude', data=train_twobath, hue='logerror_bin')\n",
    "\n",
    "\n",
    "plt.tight_layout()\n",
    "sns.set(rc = {'figure.figsize':(10,6)})"
   ]
  },
  {
   "cell_type": "code",
   "execution_count": null,
   "id": "05dd09a6",
   "metadata": {},
   "outputs": [],
   "source": [
    "train_overtwobath.logerror_bin.value_counts(normalize=True)"
   ]
  },
  {
   "cell_type": "code",
   "execution_count": null,
   "id": "33445dd0",
   "metadata": {},
   "outputs": [],
   "source": [
    "fig, (ax1, ax2) = plt.subplots(nrows=1, ncols=2)\n",
    "\n",
    "ax1.pie(data1, labels = labels1, colors = colors, autopct='%.0f%%')\n",
    "ax1.set_title('Log Error 2.5 bath', fontdict = {'fontsize' : 14})\n",
    "data1 = [79, 16, 5]\n",
    "labels1 = ['Acceptable Range', 'Over Range', 'Under Range' ]\n",
    "colors = sns.color_palette('coolwarm')[0:5]\n",
    "\n",
    "ax2.set_title(\"Error by location\",  fontdict = {'fontsize' : 14})\n",
    "sns.scatterplot(x = 'latitude', y='longitude', data=train_overtwobath, hue='logerror_bin')\n",
    "\n",
    "\n",
    "plt.tight_layout()\n",
    "sns.set(rc = {'figure.figsize':(10,6)})"
   ]
  },
  {
   "cell_type": "code",
   "execution_count": null,
   "id": "4c45b0d5",
   "metadata": {},
   "outputs": [],
   "source": [
    "train_threebath.shape"
   ]
  },
  {
   "cell_type": "code",
   "execution_count": null,
   "id": "52eb1621",
   "metadata": {},
   "outputs": [],
   "source": [
    "train_threebath.logerror_bin.value_counts(normalize=True)"
   ]
  },
  {
   "cell_type": "code",
   "execution_count": null,
   "id": "5a2941be",
   "metadata": {},
   "outputs": [],
   "source": [
    "fig, (ax1, ax2) = plt.subplots(nrows=1, ncols=2)\n",
    "\n",
    "ax1.pie(data1, labels = labels1, colors = colors, autopct='%.0f%%')\n",
    "ax1.set_title('Log Error 3 bath', fontdict = {'fontsize' : 14})\n",
    "data1 = [74, 16, 10]\n",
    "labels1 = ['Acceptable Range', 'Over Range', 'Under Range' ]\n",
    "colors = sns.color_palette('coolwarm')[0:5]\n",
    "\n",
    "ax2.set_title(\"Error by location\",  fontdict = {'fontsize' : 14})\n",
    "sns.scatterplot(x = 'latitude', y='longitude', data=train_threebath, hue='logerror_bin')\n",
    "\n",
    "\n",
    "plt.tight_layout()\n",
    "sns.set(rc = {'figure.figsize':(10,6)})"
   ]
  },
  {
   "cell_type": "code",
   "execution_count": null,
   "id": "033ce617",
   "metadata": {},
   "outputs": [],
   "source": [
    "train_overthreebath.logerror_bin.value_counts(normalize=True)"
   ]
  },
  {
   "cell_type": "code",
   "execution_count": null,
   "id": "2c9e4c10",
   "metadata": {},
   "outputs": [],
   "source": [
    "fig, (ax1, ax2) = plt.subplots(nrows=1, ncols=2)\n",
    "\n",
    "ax1.pie(data1, labels = labels1, colors = colors, autopct='%.0f%%')\n",
    "ax1.set_title('Log Error 3.5 bath', fontdict = {'fontsize' : 14})\n",
    "data1 = [69, 21, 10]\n",
    "labels1 = ['Acceptable Range', 'Over Range', 'Under Range' ]\n",
    "colors = sns.color_palette('coolwarm')[0:5]\n",
    "\n",
    "ax2.set_title(\"Error by location\",  fontdict = {'fontsize' : 14})\n",
    "sns.scatterplot(x = 'latitude', y='longitude', data=train_overthreebath, hue='logerror_bin')\n",
    "\n",
    "\n",
    "plt.tight_layout()\n",
    "sns.set(rc = {'figure.figsize':(10,6)})"
   ]
  },
  {
   "cell_type": "code",
   "execution_count": null,
   "id": "7a02ee23",
   "metadata": {},
   "outputs": [],
   "source": [
    "train_fourbath.logerror_bin.value_counts(normalize=True)"
   ]
  },
  {
   "cell_type": "code",
   "execution_count": null,
   "id": "b17024d1",
   "metadata": {},
   "outputs": [],
   "source": [
    "fig, (ax1, ax2) = plt.subplots(nrows=1, ncols=2)\n",
    "\n",
    "ax1.pie(data1, labels = labels1, colors = colors, autopct='%.0f%%')\n",
    "ax1.set_title('Log Error 4 bath', fontdict = {'fontsize' : 14})\n",
    "data1 = [61, 24, 15]\n",
    "labels1 = ['Acceptable Range', 'Over Range', 'Under Range' ]\n",
    "colors = sns.color_palette('coolwarm')[0:5]\n",
    "\n",
    "ax2.set_title(\"Error by location\",  fontdict = {'fontsize' : 14})\n",
    "sns.scatterplot(x = 'latitude', y='longitude', data=train_fourbath, hue='logerror_bin')\n",
    "\n",
    "\n",
    "plt.tight_layout()\n",
    "sns.set(rc = {'figure.figsize':(10,6)})"
   ]
  },
  {
   "cell_type": "code",
   "execution_count": null,
   "id": "8fd8ff2a",
   "metadata": {},
   "outputs": [],
   "source": [
    "train_overfourbath.logerror_bin.value_counts(normalize=True)"
   ]
  },
  {
   "cell_type": "code",
   "execution_count": null,
   "id": "918dd3cd",
   "metadata": {},
   "outputs": [],
   "source": [
    "fig, (ax1, ax2) = plt.subplots(nrows=1, ncols=2)\n",
    "\n",
    "ax1.pie(data1, labels = labels1, colors = colors, autopct='%.0f%%')\n",
    "ax1.set_title('Log Error 4.5 bath', fontdict = {'fontsize' : 14})\n",
    "data1 = [66, 23, 11]\n",
    "labels1 = ['Acceptable Range', 'Over Range', 'Under Range' ]\n",
    "colors = sns.color_palette('coolwarm')[0:5]\n",
    "\n",
    "ax2.set_title(\"Error by location\",  fontdict = {'fontsize' : 14})\n",
    "sns.scatterplot(x = 'latitude', y='longitude', data=train_overfourbath, hue='logerror_bin')\n",
    "\n",
    "\n",
    "plt.tight_layout()\n",
    "sns.set(rc = {'figure.figsize':(10,6)})"
   ]
  },
  {
   "cell_type": "code",
   "execution_count": null,
   "id": "6f249e49",
   "metadata": {},
   "outputs": [],
   "source": [
    "train_fivebath.logerror_bin.value_counts(normalize=True)"
   ]
  },
  {
   "cell_type": "code",
   "execution_count": null,
   "id": "7c71845d",
   "metadata": {},
   "outputs": [],
   "source": [
    "fig, (ax1, ax2) = plt.subplots(nrows=1, ncols=2)\n",
    "\n",
    "ax1.pie(data1, labels = labels1, colors = colors, autopct='%.0f%%')\n",
    "ax1.set_title('Log Error 5 or Over bath', fontdict = {'fontsize' : 14})\n",
    "data1 = [51, 36, 13]\n",
    "labels1 = ['Acceptable Range', 'Over Range', 'Under Range' ]\n",
    "colors = sns.color_palette('coolwarm')[0:5]\n",
    "\n",
    "ax2.set_title(\"Error by location\",  fontdict = {'fontsize' : 14})\n",
    "sns.scatterplot(x = 'latitude', y='longitude', data=train_fivebath, hue='logerror_bin')\n",
    "\n",
    "\n",
    "plt.tight_layout()\n",
    "sns.set(rc = {'figure.figsize':(10,6)})"
   ]
  },
  {
   "cell_type": "markdown",
   "id": "8716834c",
   "metadata": {},
   "source": [
    "### Control for location "
   ]
  },
  {
   "cell_type": "code",
   "execution_count": null,
   "id": "257034d7",
   "metadata": {},
   "outputs": [],
   "source": [
    "train_Ventura = train[train.location == 'Ventura']\n",
    "train_LA = train[train.location == 'LA']\n",
    "train_Orange = train[train.location == 'Orange']"
   ]
  },
  {
   "cell_type": "code",
   "execution_count": null,
   "id": "ab9c05ef",
   "metadata": {},
   "outputs": [],
   "source": [
    "trainv_onebath = train_Ventura[train_Ventura.bathroomcnt == 1]\n",
    "trainv_overonebath = train_Ventura[train_Ventura.bathroomcnt == 1.5]\n",
    "trainv_twobath = train_Ventura[train_Ventura.bathroomcnt == 2]\n",
    "trainv_overtwobath = train_Ventura[train_Ventura.bathroomcnt == 2.5]\n",
    "trainv_threebath = train_Ventura[train_Ventura.bathroomcnt == 3]\n",
    "trainv_overthreebath = train_Ventura[train_Ventura.bathroomcnt == 3.5]\n",
    "trainv_fourbath = train_Ventura[train_Ventura.bathroomcnt == 4]\n",
    "trainv_overfourbath = train_Ventura[train_Ventura.bathroomcnt == 4.5]\n",
    "trainv_fivebath = train_Ventura[train_Ventura.bathroomcnt == 5]"
   ]
  },
  {
   "cell_type": "code",
   "execution_count": null,
   "id": "65c93301",
   "metadata": {},
   "outputs": [],
   "source": [
    "traino_onebath = train_Orange[train_Orange.bathroomcnt == 1]\n",
    "traino_overonebath = train_Orange[train_Orange.bathroomcnt == 1.5]\n",
    "traino_twobath = train_Orange[train_Orange.bathroomcnt == 2]\n",
    "traino_overtwobath = train_Orange[train_Orange.bathroomcnt == 2.5]\n",
    "traino_threebath = train_Orange[train_Orange.bathroomcnt == 3]\n",
    "traino_overthreebath = train_Orange[train_Orange.bathroomcnt == 3.5]\n",
    "traino_fourbath = train_Orange[train_Orange.bathroomcnt == 4]\n",
    "traino_overfourbath = train_Orange[train_Orange.bathroomcnt == 4.5]\n",
    "traino_fivebath = train_Orange[train_Orange.bathroomcnt == 5]"
   ]
  },
  {
   "cell_type": "code",
   "execution_count": null,
   "id": "ab94fdda",
   "metadata": {},
   "outputs": [],
   "source": [
    "trainl_onebath = train_LA[train_LA.bathroomcnt == 1]\n",
    "trainl_overonebath = train_LA[train_LA.bathroomcnt == 1.5]\n",
    "trainl_twobath = train_LA[train_LA.bathroomcnt == 2]\n",
    "trainl_overtwobath = train_LA[train_LA.bathroomcnt == 2.5]\n",
    "trainl_threebath = train_LA[train_LA.bathroomcnt == 3]\n",
    "trainl_overthreebath = train_LA[train_LA.bathroomcnt == 3.5]\n",
    "trainl_fourbath = train_LA[train_LA.bathroomcnt == 4]\n",
    "trainl_overfourbath = train_LA[train_LA.bathroomcnt == 4.5]\n",
    "trainl_fivebath = train_LA[train_LA.bathroomcnt == 5]"
   ]
  },
  {
   "cell_type": "markdown",
   "id": "a5e0a68d",
   "metadata": {},
   "source": [
    "# Control for County, Control by bathroom count "
   ]
  },
  {
   "cell_type": "markdown",
   "id": "8a114ac9",
   "metadata": {},
   "source": [
    "### Ventura"
   ]
  },
  {
   "cell_type": "markdown",
   "id": "baf82087",
   "metadata": {},
   "source": [
    "- One Bathroom "
   ]
  },
  {
   "cell_type": "code",
   "execution_count": null,
   "id": "13e42f3f",
   "metadata": {},
   "outputs": [],
   "source": [
    "trainv_onebath.logerror_bin.value_counts(normalize=True)"
   ]
  },
  {
   "cell_type": "code",
   "execution_count": null,
   "id": "40722cc1",
   "metadata": {},
   "outputs": [],
   "source": [
    "fig, (ax1, ax2) = plt.subplots(nrows=1, ncols=2)\n",
    "\n",
    "ax1.pie(data1, labels = labels1, colors = colors, autopct='%.0f%%')\n",
    "ax1.set_title('Log Error: Ventura 1 bath', fontdict = {'fontsize' : 14})\n",
    "data1 = [65, 21, 14]\n",
    "labels1 = ['Acceptable Range', 'Over Estimate', 'Under Estimate' ]\n",
    "colors = sns.color_palette('coolwarm')[0:5]\n",
    "\n",
    "ax2.set_title(\"Ventura One Bath Log Error\",  fontdict = {'fontsize' : 14})\n",
    "sns.scatterplot(x = 'latitude', y='longitude', data=trainv_onebath, hue='logerror_bin', style='logerror_bin')\n",
    "\n",
    "\n",
    "plt.tight_layout()\n",
    "sns.set(rc = {'figure.figsize':(10,6)})"
   ]
  },
  {
   "cell_type": "markdown",
   "id": "b99ad6af",
   "metadata": {},
   "source": [
    "- One and half baths "
   ]
  },
  {
   "cell_type": "code",
   "execution_count": null,
   "id": "45778499",
   "metadata": {},
   "outputs": [],
   "source": [
    "trainv_overonebath.logerror_bin.value_counts(normalize=True)"
   ]
  },
  {
   "cell_type": "code",
   "execution_count": null,
   "id": "3eead92c",
   "metadata": {},
   "outputs": [],
   "source": [
    "fig, (ax1, ax2) = plt.subplots(nrows=1, ncols=2)\n",
    "\n",
    "ax1.pie(data1, labels = labels1, colors = colors, autopct='%.0f%%')\n",
    "ax1.set_title('Log Error: Ventura 1.5 bath', fontdict = {'fontsize' : 14})\n",
    "data1 = [71, 20, 9]\n",
    "labels1 = ['Acceptable Range', 'Over Estimate', 'Under Estimate' ]\n",
    "colors = sns.color_palette('coolwarm')[0:5]\n",
    "\n",
    "ax2.set_title(\"Ventura 1.5 Bath Log Error\",  fontdict = {'fontsize' : 14})\n",
    "sns.scatterplot(x = 'latitude', y='longitude', data=trainv_overonebath, hue='logerror_bin', style='logerror_bin')\n",
    "\n",
    "\n",
    "plt.tight_layout()\n",
    "sns.set(rc = {'figure.figsize':(10,6)})"
   ]
  },
  {
   "cell_type": "markdown",
   "id": "f69becb7",
   "metadata": {},
   "source": [
    "- Ventura Two baths "
   ]
  },
  {
   "cell_type": "code",
   "execution_count": null,
   "id": "a487472b",
   "metadata": {},
   "outputs": [],
   "source": [
    "trainv_twobath.logerror_bin.value_counts(normalize=True)"
   ]
  },
  {
   "cell_type": "code",
   "execution_count": null,
   "id": "9d0a8116",
   "metadata": {},
   "outputs": [],
   "source": [
    "fig, (ax1, ax2) = plt.subplots(nrows=1, ncols=2)\n",
    "\n",
    "ax1.pie(data1, labels = labels1, colors = colors, autopct='%.0f%%')\n",
    "ax1.set_title('Log Error: Ventura 2 bath', fontdict = {'fontsize' : 14})\n",
    "data1 = [76, 13, 11]\n",
    "labels1 = ['Acceptable Range', 'Over Estimate', 'Under Estimate' ]\n",
    "colors = sns.color_palette('coolwarm')[0:5]\n",
    "\n",
    "ax2.set_title(\"Ventura Two Bath Log Error\",  fontdict = {'fontsize' : 14})\n",
    "sns.scatterplot(x = 'latitude', y='longitude', data=trainv_twobath, hue='logerror_bin',style='logerror_bin')\n",
    "\n",
    "\n",
    "plt.tight_layout()\n",
    "sns.set(rc = {'figure.figsize':(10,6)})"
   ]
  },
  {
   "cell_type": "code",
   "execution_count": null,
   "id": "df71ae14",
   "metadata": {},
   "outputs": [],
   "source": [
    "trainv_overtwobath.logerror_bin.value_counts(normalize=True)"
   ]
  },
  {
   "cell_type": "code",
   "execution_count": null,
   "id": "858035d3",
   "metadata": {},
   "outputs": [],
   "source": [
    "fig, (ax1, ax2) = plt.subplots(nrows=1, ncols=2)\n",
    "\n",
    "ax1.pie(data1, labels = labels1, colors = colors, autopct='%.0f%%')\n",
    "ax1.set_title('Log Error: Ventura 2.5 bath', fontdict = {'fontsize' : 14})\n",
    "data1 = [78, 18, 4]\n",
    "labels1 = ['Acceptable Range', 'Over Estimate', 'Under Estimate' ]\n",
    "colors = sns.color_palette('coolwarm')[0:5]\n",
    "\n",
    "ax2.set_title(\"Ventura 2.5 Bath Log Error\",  fontdict = {'fontsize' : 14})\n",
    "sns.scatterplot(x = 'latitude', y='longitude', data=trainv_overtwobath, hue='logerror_bin', style='logerror_bin')\n",
    "\n",
    "\n",
    "plt.tight_layout()\n",
    "sns.set(rc = {'figure.figsize':(10,6)})"
   ]
  },
  {
   "cell_type": "code",
   "execution_count": null,
   "id": "c91c8727",
   "metadata": {},
   "outputs": [],
   "source": [
    "trainv_threebath.logerror_bin.value_counts(normalize=True)"
   ]
  },
  {
   "cell_type": "code",
   "execution_count": null,
   "id": "2da40c1b",
   "metadata": {},
   "outputs": [],
   "source": [
    "fig, (ax1, ax2) = plt.subplots(nrows=1, ncols=2)\n",
    "\n",
    "ax1.pie(data1, labels = labels1, colors = colors, autopct='%.0f%%')\n",
    "ax1.set_title('Log Error: Ventura 3 bath', fontdict = {'fontsize' : 14})\n",
    "data1 = [79, 13, 8]\n",
    "labels1 = ['Acceptable Range', 'Over Estimate', 'Under Estimate' ]\n",
    "colors = sns.color_palette('coolwarm')[0:5]\n",
    "\n",
    "ax2.set_title(\"Ventura three Bath Log Error\",  fontdict = {'fontsize' : 14})\n",
    "sns.scatterplot(x = 'latitude', y='longitude', data=trainv_threebath, hue='logerror_bin', style='logerror_bin')\n",
    "\n",
    "\n",
    "plt.tight_layout()\n",
    "sns.set(rc = {'figure.figsize':(10,6)})"
   ]
  },
  {
   "cell_type": "code",
   "execution_count": null,
   "id": "24884a2c",
   "metadata": {},
   "outputs": [],
   "source": [
    "trainv_overthreebath.logerror_bin.value_counts(normalize=True)"
   ]
  },
  {
   "cell_type": "code",
   "execution_count": null,
   "id": "3215d757",
   "metadata": {},
   "outputs": [],
   "source": [
    "fig, (ax1, ax2) = plt.subplots(nrows=1, ncols=2)\n",
    "\n",
    "ax1.pie(data1, labels = labels1, colors = colors, autopct='%.0f%%')\n",
    "ax1.set_title('Log Error: Ventura 3.5 bath', fontdict = {'fontsize' : 14})\n",
    "data1 = [75, 17, 8]\n",
    "labels1 = ['Acceptable Range', 'Over Estimate', 'Under Estimate' ]\n",
    "colors = sns.color_palette('coolwarm')[0:5]\n",
    "\n",
    "ax2.set_title(\"Ventura 3.5 Bath Log Error\",  fontdict = {'fontsize' : 14})\n",
    "sns.scatterplot(x = 'latitude', y='longitude', data=trainv_overthreebath, hue='logerror_bin', style='logerror_bin')\n",
    "\n",
    "\n",
    "plt.tight_layout()\n",
    "sns.set(rc = {'figure.figsize':(10,6)})"
   ]
  },
  {
   "cell_type": "code",
   "execution_count": null,
   "id": "0e9023d7",
   "metadata": {},
   "outputs": [],
   "source": [
    "trainv_fourbath.logerror_bin.value_counts(normalize=True)"
   ]
  },
  {
   "cell_type": "code",
   "execution_count": null,
   "id": "02fee81d",
   "metadata": {},
   "outputs": [],
   "source": [
    "fig, (ax1, ax2) = plt.subplots(nrows=1, ncols=2)\n",
    "\n",
    "ax1.pie(data1, labels = labels1, colors = colors, autopct='%.0f%%')\n",
    "ax1.set_title('Log Error: Ventura 4 bath', fontdict = {'fontsize' : 14})\n",
    "data1 = [72, 21, 7]\n",
    "labels1 = ['Acceptable Range', 'Over Estimate', 'Under Estimate' ]\n",
    "colors = sns.color_palette('coolwarm')[0:5]\n",
    "\n",
    "ax2.set_title(\"Ventura four Bath Log Error\",  fontdict = {'fontsize' : 14})\n",
    "sns.scatterplot(x = 'latitude', y='longitude', data=trainv_fourbath, hue='logerror_bin', style='logerror_bin')\n",
    "\n",
    "\n",
    "plt.tight_layout()\n",
    "sns.set(rc = {'figure.figsize':(10,6)})"
   ]
  },
  {
   "cell_type": "code",
   "execution_count": 78,
   "id": "2ef47165",
   "metadata": {},
   "outputs": [
    {
     "ename": "NameError",
     "evalue": "name 'trainv_overfourbath' is not defined",
     "output_type": "error",
     "traceback": [
      "\u001b[0;31m---------------------------------------------------------------------------\u001b[0m",
      "\u001b[0;31mNameError\u001b[0m                                 Traceback (most recent call last)",
      "\u001b[0;32m/var/folders/lt/mq77_h29005b8q_dkwt9pz000000gn/T/ipykernel_46934/2217107582.py\u001b[0m in \u001b[0;36m<module>\u001b[0;34m\u001b[0m\n\u001b[0;32m----> 1\u001b[0;31m \u001b[0mtrainv_overfourbath\u001b[0m\u001b[0;34m.\u001b[0m\u001b[0mlogerror_bin\u001b[0m\u001b[0;34m.\u001b[0m\u001b[0mvalue_counts\u001b[0m\u001b[0;34m(\u001b[0m\u001b[0mnormalize\u001b[0m\u001b[0;34m=\u001b[0m\u001b[0;32mTrue\u001b[0m\u001b[0;34m)\u001b[0m\u001b[0;34m\u001b[0m\u001b[0;34m\u001b[0m\u001b[0m\n\u001b[0m",
      "\u001b[0;31mNameError\u001b[0m: name 'trainv_overfourbath' is not defined"
     ]
    }
   ],
   "source": [
    "trainv_overfourbath.logerror_bin.value_counts(normalize=True)"
   ]
  },
  {
   "cell_type": "code",
   "execution_count": 79,
   "id": "248fb7bc",
   "metadata": {},
   "outputs": [
    {
     "ename": "NameError",
     "evalue": "name 'data1' is not defined",
     "output_type": "error",
     "traceback": [
      "\u001b[0;31m---------------------------------------------------------------------------\u001b[0m",
      "\u001b[0;31mNameError\u001b[0m                                 Traceback (most recent call last)",
      "\u001b[0;32m/var/folders/lt/mq77_h29005b8q_dkwt9pz000000gn/T/ipykernel_46934/73770278.py\u001b[0m in \u001b[0;36m<module>\u001b[0;34m\u001b[0m\n\u001b[1;32m      1\u001b[0m \u001b[0mfig\u001b[0m\u001b[0;34m,\u001b[0m \u001b[0;34m(\u001b[0m\u001b[0max1\u001b[0m\u001b[0;34m,\u001b[0m \u001b[0max2\u001b[0m\u001b[0;34m)\u001b[0m \u001b[0;34m=\u001b[0m \u001b[0mplt\u001b[0m\u001b[0;34m.\u001b[0m\u001b[0msubplots\u001b[0m\u001b[0;34m(\u001b[0m\u001b[0mnrows\u001b[0m\u001b[0;34m=\u001b[0m\u001b[0;36m1\u001b[0m\u001b[0;34m,\u001b[0m \u001b[0mncols\u001b[0m\u001b[0;34m=\u001b[0m\u001b[0;36m2\u001b[0m\u001b[0;34m)\u001b[0m\u001b[0;34m\u001b[0m\u001b[0;34m\u001b[0m\u001b[0m\n\u001b[1;32m      2\u001b[0m \u001b[0;34m\u001b[0m\u001b[0m\n\u001b[0;32m----> 3\u001b[0;31m \u001b[0max1\u001b[0m\u001b[0;34m.\u001b[0m\u001b[0mpie\u001b[0m\u001b[0;34m(\u001b[0m\u001b[0mdata1\u001b[0m\u001b[0;34m,\u001b[0m \u001b[0mlabels\u001b[0m \u001b[0;34m=\u001b[0m \u001b[0mlabels1\u001b[0m\u001b[0;34m,\u001b[0m \u001b[0mcolors\u001b[0m \u001b[0;34m=\u001b[0m \u001b[0mcolors\u001b[0m\u001b[0;34m,\u001b[0m \u001b[0mautopct\u001b[0m\u001b[0;34m=\u001b[0m\u001b[0;34m'%.0f%%'\u001b[0m\u001b[0;34m)\u001b[0m\u001b[0;34m\u001b[0m\u001b[0;34m\u001b[0m\u001b[0m\n\u001b[0m\u001b[1;32m      4\u001b[0m \u001b[0max1\u001b[0m\u001b[0;34m.\u001b[0m\u001b[0mset_title\u001b[0m\u001b[0;34m(\u001b[0m\u001b[0;34m'Log Error: Ventura 4.5 bath'\u001b[0m\u001b[0;34m,\u001b[0m \u001b[0mfontdict\u001b[0m \u001b[0;34m=\u001b[0m \u001b[0;34m{\u001b[0m\u001b[0;34m'fontsize'\u001b[0m \u001b[0;34m:\u001b[0m \u001b[0;36m14\u001b[0m\u001b[0;34m}\u001b[0m\u001b[0;34m)\u001b[0m\u001b[0;34m\u001b[0m\u001b[0;34m\u001b[0m\u001b[0m\n\u001b[1;32m      5\u001b[0m \u001b[0mdata1\u001b[0m \u001b[0;34m=\u001b[0m \u001b[0;34m[\u001b[0m\u001b[0;36m69\u001b[0m\u001b[0;34m,\u001b[0m \u001b[0;36m21\u001b[0m\u001b[0;34m,\u001b[0m \u001b[0;36m10\u001b[0m\u001b[0;34m]\u001b[0m\u001b[0;34m\u001b[0m\u001b[0;34m\u001b[0m\u001b[0m\n",
      "\u001b[0;31mNameError\u001b[0m: name 'data1' is not defined"
     ]
    },
    {
     "data": {
      "image/png": "[encoded data removed]",
      "text/plain": [
       "<Figure size 432x288 with 2 Axes>"
      ]
     },
     "metadata": {
      "needs_background": "light"
     },
     "output_type": "display_data"
    }
   ],
   "source": [
    "fig, (ax1, ax2) = plt.subplots(nrows=1, ncols=2)\n",
    "\n",
    "ax1.pie(data1, labels = labels1, colors = colors, autopct='%.0f%%')\n",
    "ax1.set_title('Log Error: Ventura 4.5 bath', fontdict = {'fontsize' : 14})\n",
    "data1 = [69, 21, 10]\n",
    "labels1 = ['Acceptable Range', 'Over Estimate', 'Under Estimate' ]\n",
    "colors = sns.color_palette('coolwarm')[0:5]\n",
    "\n",
    "ax2.set_title(\"Ventura 4.5 Bath Log Error\",  fontdict = {'fontsize' : 14})\n",
    "sns.scatterplot(x = 'latitude', y='longitude', data=train_overfourbath, hue='logerror_bin', style='logerror_bin')\n",
    "\n",
    "\n",
    "plt.tight_layout()\n",
    "sns.set(rc = {'figure.figsize':(10,6)})"
   ]
  },
  {
   "cell_type": "code",
   "execution_count": null,
   "id": "4702b8d2",
   "metadata": {},
   "outputs": [],
   "source": [
    "trainv_fivebath.logerror_bin.value_counts(normalize=True)"
   ]
  },
  {
   "cell_type": "code",
   "execution_count": null,
   "id": "b78f7a44",
   "metadata": {},
   "outputs": [],
   "source": [
    "fig, (ax1, ax2) = plt.subplots(nrows=1, ncols=2)\n",
    "\n",
    "ax1.pie(data1, labels = labels1, colors = colors, autopct='%.0f%%')\n",
    "ax1.set_title('Log Error: Ventura Five bath', fontdict = {'fontsize' : 14})\n",
    "data1 = [49, 39, 12]\n",
    "labels1 = ['Acceptable Range', 'Over Estimate', 'Under Estimate' ]\n",
    "colors = sns.color_palette('coolwarm')[0:5]\n",
    "\n",
    "ax2.set_title(\"Ventura Five Bath Log Error\",  fontdict = {'fontsize' : 14})\n",
    "sns.scatterplot(x = 'latitude', y='longitude', data=trainv_fivebath, hue='logerror_bin', style='logerror_bin')\n",
    "\n",
    "\n",
    "plt.tight_layout()\n",
    "sns.set(rc = {'figure.figsize':(10,6)})"
   ]
  },
  {
   "cell_type": "markdown",
   "id": "9fbbf551",
   "metadata": {},
   "source": [
    "### Orange "
   ]
  },
  {
   "cell_type": "code",
   "execution_count": null,
   "id": "36a21dc7",
   "metadata": {},
   "outputs": [],
   "source": [
    "traino_onebath.logerror_bin.value_counts(normalize=True)"
   ]
  },
  {
   "cell_type": "code",
   "execution_count": null,
   "id": "3e028a15",
   "metadata": {},
   "outputs": [],
   "source": [
    "fig, (ax1, ax2) = plt.subplots(nrows=1, ncols=2)\n",
    "\n",
    "ax1.pie(data1, labels = labels1, colors = colors, autopct='%.0f%%')\n",
    "ax1.set_title('Log Error: Orange 1 bath', fontdict = {'fontsize' : 14})\n",
    "data1 = [69, 17, 14]\n",
    "labels1 = ['Acceptable Range', 'Over Estimate', 'Under Estimate' ]\n",
    "colors = sns.color_palette('coolwarm')[0:5]\n",
    "\n",
    "ax2.set_title(\"Orange One Bath Log Error\",  fontdict = {'fontsize' : 14})\n",
    "sns.scatterplot(x = 'latitude', y='longitude', data=traino_onebath, hue='logerror_bin', style='logerror_bin')\n",
    "\n",
    "\n",
    "plt.tight_layout()\n",
    "sns.set(rc = {'figure.figsize':(10,6)})"
   ]
  },
  {
   "cell_type": "code",
   "execution_count": null,
   "id": "6ea884fd",
   "metadata": {},
   "outputs": [],
   "source": [
    "traino_overonebath.logerror_bin.value_counts(normalize=True)"
   ]
  },
  {
   "cell_type": "code",
   "execution_count": null,
   "id": "11294a63",
   "metadata": {},
   "outputs": [],
   "source": [
    "fig, (ax1, ax2) = plt.subplots(nrows=1, ncols=2)\n",
    "\n",
    "ax1.pie(data1, labels = labels1, colors = colors, autopct='%.0f%%')\n",
    "ax1.set_title('Log Error: Orange 1.5 bath', fontdict = {'fontsize' : 14})\n",
    "data1 = [80, 11, 9]\n",
    "labels1 = ['Acceptable Range', 'Over Estimate', 'Under Estimate' ]\n",
    "colors = sns.color_palette('coolwarm')[0:5]\n",
    "\n",
    "ax2.set_title(\"Orange 1.5 Bath Log Error\",  fontdict = {'fontsize' : 14})\n",
    "sns.scatterplot(x = 'latitude', y='longitude', data=traino_overonebath, hue='logerror_bin', style='logerror_bin')\n",
    "\n",
    "\n",
    "plt.tight_layout()\n",
    "sns.set(rc = {'figure.figsize':(10,6)})"
   ]
  },
  {
   "cell_type": "code",
   "execution_count": null,
   "id": "259d6b09",
   "metadata": {},
   "outputs": [],
   "source": [
    "traino_twobath.logerror_bin.value_counts(normalize=True)"
   ]
  },
  {
   "cell_type": "code",
   "execution_count": null,
   "id": "f8ee647f",
   "metadata": {},
   "outputs": [],
   "source": [
    "fig, (ax1, ax2) = plt.subplots(nrows=1, ncols=2)\n",
    "\n",
    "ax1.pie(data1, labels = labels1, colors = colors, autopct='%.0f%%')\n",
    "ax1.set_title('Log Error: Orange 2 bath', fontdict = {'fontsize' : 14})\n",
    "data1 = [77, 14, 9]\n",
    "labels1 = ['Acceptable Range', 'Over Estimate', 'Under Estimate' ]\n",
    "colors = sns.color_palette('coolwarm')[0:5]\n",
    "\n",
    "ax2.set_title(\"Orange two Bath Log Error\",  fontdict = {'fontsize' : 14})\n",
    "sns.scatterplot(x = 'latitude', y='longitude', data=traino_twobath, hue='logerror_bin', style='logerror_bin')\n",
    "\n",
    "\n",
    "plt.tight_layout()\n",
    "sns.set(rc = {'figure.figsize':(10,6)})"
   ]
  },
  {
   "cell_type": "code",
   "execution_count": null,
   "id": "7579fff5",
   "metadata": {},
   "outputs": [],
   "source": [
    "traino_overtwobath.logerror_bin.value_counts(normalize=True)"
   ]
  },
  {
   "cell_type": "code",
   "execution_count": null,
   "id": "a9258429",
   "metadata": {},
   "outputs": [],
   "source": [
    "fig, (ax1, ax2) = plt.subplots(nrows=1, ncols=2)\n",
    "\n",
    "ax1.pie(data1, labels = labels1, colors = colors, autopct='%.0f%%')\n",
    "ax1.set_title('Log Error: Orange 2.5 bath', fontdict = {'fontsize' : 14})\n",
    "data1 = [79, 15, 6]\n",
    "labels1 = ['Acceptable Range', 'Over Estimate', 'Under Estimate' ]\n",
    "colors = sns.color_palette('coolwarm')[0:5]\n",
    "\n",
    "ax2.set_title(\"Orange 2.5 Bath Log Error\",  fontdict = {'fontsize' : 14})\n",
    "sns.scatterplot(x = 'latitude', y='longitude', data=traino_overtwobath, hue='logerror_bin', style='logerror_bin')\n",
    "\n",
    "\n",
    "plt.tight_layout()\n",
    "sns.set(rc = {'figure.figsize':(10,6)})"
   ]
  },
  {
   "cell_type": "code",
   "execution_count": null,
   "id": "eeefdc59",
   "metadata": {},
   "outputs": [],
   "source": [
    "traino_threebath.logerror_bin.value_counts(normalize=True)"
   ]
  },
  {
   "cell_type": "code",
   "execution_count": null,
   "id": "bc1f0c1b",
   "metadata": {},
   "outputs": [],
   "source": [
    "fig, (ax1, ax2) = plt.subplots(nrows=1, ncols=2)\n",
    "\n",
    "ax1.pie(data1, labels = labels1, colors = colors, autopct='%.0f%%')\n",
    "ax1.set_title('Log Error: Orange 3 bath', fontdict = {'fontsize' : 14})\n",
    "data1 = [74, 17, 9]\n",
    "labels1 = ['Acceptable Range', 'Over Estimate', 'Under Estimate' ]\n",
    "colors = sns.color_palette('coolwarm')[0:5]\n",
    "\n",
    "ax2.set_title(\"Orange 3 Bath Log Error\",  fontdict = {'fontsize' : 14})\n",
    "sns.scatterplot(x = 'latitude', y='longitude', data=traino_threebath, hue='logerror_bin', style='logerror_bin')\n",
    "\n",
    "\n",
    "plt.tight_layout()\n",
    "sns.set(rc = {'figure.figsize':(10,6)})"
   ]
  },
  {
   "cell_type": "code",
   "execution_count": null,
   "id": "abb91b05",
   "metadata": {},
   "outputs": [],
   "source": [
    "traino_overthreebath.logerror_bin.value_counts(normalize=True)"
   ]
  },
  {
   "cell_type": "code",
   "execution_count": null,
   "id": "1ea39e0b",
   "metadata": {},
   "outputs": [],
   "source": [
    "fig, (ax1, ax2) = plt.subplots(nrows=1, ncols=2)\n",
    "\n",
    "ax1.pie(data1, labels = labels1, colors = colors, autopct='%.0f%%')\n",
    "ax1.set_title('Log Error: Orange 3.5 bath', fontdict = {'fontsize' : 14})\n",
    "data1 = [66, 24, 10]\n",
    "labels1 = ['Acceptable Range', 'Over Estimate', 'Under Estimate' ]\n",
    "colors = sns.color_palette('coolwarm')[0:5]\n",
    "\n",
    "ax2.set_title(\"Orange 3.5 Bath Log Error\",  fontdict = {'fontsize' : 14})\n",
    "sns.scatterplot(x = 'latitude', y='longitude', data=traino_overthreebath, hue='logerror_bin', style='logerror_bin')\n",
    "\n",
    "\n",
    "plt.tight_layout()\n",
    "sns.set(rc = {'figure.figsize':(10,6)})"
   ]
  },
  {
   "cell_type": "code",
   "execution_count": null,
   "id": "26edb4c1",
   "metadata": {},
   "outputs": [],
   "source": [
    "traino_fourbath.logerror_bin.value_counts(normalize=True)"
   ]
  },
  {
   "cell_type": "code",
   "execution_count": null,
   "id": "c8baad58",
   "metadata": {},
   "outputs": [],
   "source": [
    "fig, (ax1, ax2) = plt.subplots(nrows=1, ncols=2)\n",
    "\n",
    "ax1.pie(data1, labels = labels1, colors = colors, autopct='%.0f%%')\n",
    "ax1.set_title('Log Error: Orange 4 bath', fontdict = {'fontsize' : 14})\n",
    "data1 = [63, 25, 12]\n",
    "labels1 = ['Acceptable Range', 'Over Estimate', 'Under Estimate' ]\n",
    "colors = sns.color_palette('coolwarm')[0:5]\n",
    "\n",
    "ax2.set_title(\"Orange 4 Bath Log Error\",  fontdict = {'fontsize' : 14})\n",
    "sns.scatterplot(x = 'latitude', y='longitude', data=traino_fourbath, hue='logerror_bin', style='logerror_bin')\n",
    "\n",
    "\n",
    "plt.tight_layout()\n",
    "sns.set(rc = {'figure.figsize':(10,6)})"
   ]
  },
  {
   "cell_type": "code",
   "execution_count": null,
   "id": "6112c0f7",
   "metadata": {},
   "outputs": [],
   "source": [
    "traino_overfourbath.logerror_bin.value_counts(normalize=True)"
   ]
  },
  {
   "cell_type": "code",
   "execution_count": null,
   "id": "0012bdbf",
   "metadata": {},
   "outputs": [],
   "source": [
    "fig, (ax1, ax2) = plt.subplots(nrows=1, ncols=2)\n",
    "\n",
    "ax1.pie(data1, labels = labels1, colors = colors, autopct='%.0f%%')\n",
    "ax1.set_title('Log Error: Orange 4.5 bath', fontdict = {'fontsize' : 14})\n",
    "data1 = [64, 24, 12]\n",
    "labels1 = ['Acceptable Range', 'Over Estimate', 'Under Estimate' ]\n",
    "colors = sns.color_palette('coolwarm')[0:5]\n",
    "\n",
    "ax2.set_title(\"Orange 4.5 Bath Log Error\",  fontdict = {'fontsize' : 14})\n",
    "sns.scatterplot(x = 'latitude', y='longitude', data=traino_overfourbath, hue='logerror_bin', style='logerror_bin')\n",
    "\n",
    "\n",
    "plt.tight_layout()\n",
    "sns.set(rc = {'figure.figsize':(10,6)})"
   ]
  },
  {
   "cell_type": "code",
   "execution_count": null,
   "id": "a18216a6",
   "metadata": {},
   "outputs": [],
   "source": [
    "traino_fivebath.logerror_bin.value_counts(normalize=True)"
   ]
  },
  {
   "cell_type": "code",
   "execution_count": null,
   "id": "02b21431",
   "metadata": {},
   "outputs": [],
   "source": [
    "fig, (ax1, ax2) = plt.subplots(nrows=1, ncols=2)\n",
    "\n",
    "ax1.pie(data1, labels = labels1, colors = colors, autopct='%.0f%%')\n",
    "ax1.set_title('Log Error: Orange 5 or Over bath', fontdict = {'fontsize' : 14})\n",
    "data1 = [57, 34, 9]\n",
    "labels1 = ['Acceptable Range', 'Over Estimate', 'Under Estimate' ]\n",
    "colors = sns.color_palette('coolwarm')[0:5]\n",
    "\n",
    "ax2.set_title(\"Orange 5 or over bath Log Error\",  fontdict = {'fontsize' : 14})\n",
    "sns.scatterplot(x = 'latitude', y='longitude', data=traino_fivebath, hue='logerror_bin', style='logerror_bin')\n",
    "\n",
    "\n",
    "plt.tight_layout()\n",
    "sns.set(rc = {'figure.figsize':(10,6)})"
   ]
  },
  {
   "cell_type": "markdown",
   "id": "c2223dbc",
   "metadata": {},
   "source": [
    "### LA County "
   ]
  },
  {
   "cell_type": "code",
   "execution_count": null,
   "id": "c64826d4",
   "metadata": {},
   "outputs": [],
   "source": [
    "trainl_onebath.logerror_bin.value_counts(normalize=True)"
   ]
  },
  {
   "cell_type": "code",
   "execution_count": null,
   "id": "87c3af96",
   "metadata": {},
   "outputs": [],
   "source": [
    "fig, (ax1, ax2) = plt.subplots(nrows=1, ncols=2)\n",
    "\n",
    "ax1.pie(data1, labels = labels1, colors = colors, autopct='%.0f%%')\n",
    "ax1.set_title('Log Error: LA one bath', fontdict = {'fontsize' : 14})\n",
    "data1 = [64, 19, 17]\n",
    "labels1 = ['Acceptable Range', 'Over Estimate', 'Under Estimate' ]\n",
    "colors = sns.color_palette('coolwarm')[0:5]\n",
    "\n",
    "ax2.set_title(\"LA one bath Log Error\",  fontdict = {'fontsize' : 14})\n",
    "sns.scatterplot(x = 'latitude', y='longitude', data=trainl_onebath, hue='logerror_bin', style='logerror_bin')\n",
    "\n",
    "\n",
    "plt.tight_layout()\n",
    "sns.set(rc = {'figure.figsize':(10,6)})"
   ]
  },
  {
   "cell_type": "code",
   "execution_count": null,
   "id": "76e16822",
   "metadata": {},
   "outputs": [],
   "source": [
    "trainl_twobath.logerror_bin.value_counts(normalize=True)"
   ]
  },
  {
   "cell_type": "code",
   "execution_count": null,
   "id": "6b7ef63a",
   "metadata": {},
   "outputs": [],
   "source": [
    "fig, (ax1, ax2) = plt.subplots(nrows=1, ncols=2)\n",
    "\n",
    "ax1.pie(data1, labels = labels1, colors = colors, autopct='%.0f%%')\n",
    "ax1.set_title('Log Error: LA Two bath', fontdict = {'fontsize' : 14})\n",
    "data1 = [71, 16, 13]\n",
    "labels1 = ['Acceptable Range', 'Over Estimate', 'Under Estimate' ]\n",
    "colors = sns.color_palette('coolwarm')[0:5]\n",
    "\n",
    "ax2.set_title(\"LA Two Bath\",  fontdict = {'fontsize' : 14})\n",
    "sns.scatterplot(x = 'latitude', y='longitude', data=trainl_twobath, hue='logerror_bin', style='logerror_bin')\n",
    "\n",
    "\n",
    "plt.tight_layout()\n",
    "sns.set(rc = {'figure.figsize':(10,6)})"
   ]
  },
  {
   "cell_type": "code",
   "execution_count": null,
   "id": "5460dd1e",
   "metadata": {},
   "outputs": [],
   "source": [
    "trainl_threebath.logerror_bin.value_counts(normalize=True)"
   ]
  },
  {
   "cell_type": "code",
   "execution_count": null,
   "id": "6d86ea22",
   "metadata": {},
   "outputs": [],
   "source": [
    "fig, (ax1, ax2) = plt.subplots(nrows=1, ncols=2)\n",
    "\n",
    "ax1.pie(data1, labels = labels1, colors = colors, autopct='%.0f%%')\n",
    "ax1.set_title('Log Error: LA 3 bath', fontdict = {'fontsize' : 14})\n",
    "data1 = [73, 16, 11]\n",
    "labels1 = ['Acceptable Range', 'Over Estimate', 'Under Estimate' ]\n",
    "colors = sns.color_palette('coolwarm')[0:5]\n",
    "\n",
    "ax2.set_title(\"LA 3 bath\",  fontdict = {'fontsize' : 14})\n",
    "sns.scatterplot(x = 'latitude', y='longitude', data=trainl_threebath, hue='logerror_bin', style='logerror_bin')\n",
    "\n",
    "\n",
    "plt.tight_layout()\n",
    "sns.set(rc = {'figure.figsize':(10,6)})"
   ]
  },
  {
   "cell_type": "code",
   "execution_count": null,
   "id": "f6086de8",
   "metadata": {},
   "outputs": [],
   "source": [
    "trainl_fourbath.logerror_bin.value_counts(normalize=True)"
   ]
  },
  {
   "cell_type": "code",
   "execution_count": null,
   "id": "d5264b3d",
   "metadata": {},
   "outputs": [],
   "source": [
    "fig, (ax1, ax2) = plt.subplots(nrows=1, ncols=2)\n",
    "\n",
    "ax1.pie(data1, labels = labels1, colors = colors, autopct='%.0f%%')\n",
    "ax1.set_title('Log Error: LA 4 bath', fontdict = {'fontsize' : 14})\n",
    "data1 = [61, 24, 15]\n",
    "labels1 = ['Acceptable Range', 'Over Estimate', 'Under Estimate' ]\n",
    "colors = sns.color_palette('coolwarm')[0:5]\n",
    "\n",
    "ax2.set_title(\"LA 4 bath Log Error\",  fontdict = {'fontsize' : 14})\n",
    "sns.scatterplot(x = 'latitude', y='longitude', data=traino_fivebath, hue='logerror_bin', style='logerror_bin')\n",
    "\n",
    "\n",
    "plt.tight_layout()\n",
    "sns.set(rc = {'figure.figsize':(10,6)})"
   ]
  },
  {
   "cell_type": "code",
   "execution_count": null,
   "id": "6b2530d9",
   "metadata": {},
   "outputs": [],
   "source": [
    "trainl_fivebath.logerror_bin.value_counts(normalize=True)"
   ]
  },
  {
   "cell_type": "code",
   "execution_count": null,
   "id": "e853730c",
   "metadata": {},
   "outputs": [],
   "source": [
    "fig, (ax1, ax2) = plt.subplots(nrows=1, ncols=2)\n",
    "\n",
    "ax1.pie(data1, labels = labels1, colors = colors, autopct='%.0f%%')\n",
    "ax1.set_title('Log Error: LA 5 or over bath', fontdict = {'fontsize' : 14})\n",
    "data1 = [50, 36, 14]\n",
    "labels1 = ['Acceptable Range', 'Over Estimate', 'Under Estimate' ]\n",
    "colors = sns.color_palette('coolwarm')[0:5]\n",
    "\n",
    "ax2.set_title(\"LA 5 or over bath Log Error\",  fontdict = {'fontsize' : 14})\n",
    "sns.scatterplot(x = 'latitude', y='longitude', data=traino_fivebath, hue='logerror_bin', style='logerror_bin')\n",
    "\n",
    "\n",
    "plt.tight_layout()\n",
    "sns.set(rc = {'figure.figsize':(10,6)})"
   ]
  },
  {
   "cell_type": "code",
   "execution_count": null,
   "id": "864bd6d5",
   "metadata": {},
   "outputs": [],
   "source": []
  },
  {
   "cell_type": "code",
   "execution_count": null,
   "id": "69b440d9",
   "metadata": {},
   "outputs": [],
   "source": []
  },
  {
   "cell_type": "code",
   "execution_count": null,
   "id": "0a7583e7",
   "metadata": {},
   "outputs": [],
   "source": []
  },
  {
   "cell_type": "code",
   "execution_count": null,
   "id": "3149fcd7",
   "metadata": {},
   "outputs": [],
   "source": []
  },
  {
   "cell_type": "code",
   "execution_count": null,
   "id": "feb71d18",
   "metadata": {},
   "outputs": [],
   "source": []
  },
  {
   "cell_type": "code",
   "execution_count": null,
   "id": "a5031c02",
   "metadata": {},
   "outputs": [],
   "source": []
  },
  {
   "cell_type": "code",
   "execution_count": null,
   "id": "03c93dba",
   "metadata": {},
   "outputs": [],
   "source": []
  },
  {
   "cell_type": "code",
   "execution_count": null,
   "id": "184d8ff7",
   "metadata": {},
   "outputs": [],
   "source": []
  },
  {
   "cell_type": "code",
   "execution_count": null,
   "id": "63bda135",
   "metadata": {},
   "outputs": [],
   "source": [
    "sns.scatterplot(x = 'yearbuilt', y='calculatedfinishedsquarefeet', data=train_Ventura[train_Ventura.bathroomcnt == 1.5], hue='logerror_bin')\n",
    "plt.title('latitude and longitude')\n",
    "plt.show"
   ]
  },
  {
   "cell_type": "code",
   "execution_count": null,
   "id": "a0b02c96",
   "metadata": {},
   "outputs": [],
   "source": [
    "sns.scatterplot(x = 'yearbuilt', y='calculatedfinishedsquarefeet', data=train_Ventura[train_Ventura.bathroomcnt == 2], hue='logerror_bin')\n",
    "plt.title('latitude and longitude')\n",
    "plt.show"
   ]
  },
  {
   "cell_type": "code",
   "execution_count": null,
   "id": "b58450a7",
   "metadata": {},
   "outputs": [],
   "source": [
    "sns.scatterplot(x = 'yearbuilt', y='calculatedfinishedsquarefeet', data=train_Ventura[train_Ventura.bathroomcnt == 2.5], hue='logerror_bin')\n",
    "plt.title('latitude and longitude')\n",
    "plt.show"
   ]
  },
  {
   "cell_type": "code",
   "execution_count": null,
   "id": "d5b4bab8",
   "metadata": {},
   "outputs": [],
   "source": [
    "sns.scatterplot(x = 'yearbuilt', y='calculatedfinishedsquarefeet', data=train_Ventura[train_Ventura.bathroomcnt == 3], hue='logerror_bin')\n",
    "plt.title('latitude and longitude')\n",
    "plt.show"
   ]
  },
  {
   "cell_type": "code",
   "execution_count": null,
   "id": "f7f602dc",
   "metadata": {},
   "outputs": [],
   "source": [
    "sns.scatterplot(x = 'yearbuilt', y='calculatedfinishedsquarefeet', data=train_Ventura[train_Ventura.bathroomcnt == 3.5], hue='logerror_bin')\n",
    "plt.title('latitude and longitude')\n",
    "plt.show"
   ]
  },
  {
   "cell_type": "code",
   "execution_count": null,
   "id": "b67cc206",
   "metadata": {},
   "outputs": [],
   "source": [
    "sns.scatterplot(x = 'yearbuilt', y='calculatedfinishedsquarefeet', data=train_Ventura[train_Ventura.bathroomcnt == 4], hue='logerror_bin')\n",
    "plt.title('latitude and longitude')\n",
    "plt.show"
   ]
  },
  {
   "cell_type": "code",
   "execution_count": null,
   "id": "e7017094",
   "metadata": {},
   "outputs": [],
   "source": [
    "sns.scatterplot(x = 'yearbuilt', y='calculatedfinishedsquarefeet', data=train_Ventura[train_Ventura.bathroomcnt == 4.5], hue='logerror_bin')\n",
    "plt.title('latitude and longitude')\n",
    "plt.show"
   ]
  },
  {
   "cell_type": "code",
   "execution_count": null,
   "id": "39daad83",
   "metadata": {},
   "outputs": [],
   "source": [
    "sns.scatterplot(x = 'yearbuilt', y='calculatedfinishedsquarefeet', data=train_Ventura[train_Ventura.bathroomcnt == 5], hue='logerror_bin')\n",
    "plt.title('latitude and longitude')\n",
    "plt.show"
   ]
  },
  {
   "cell_type": "code",
   "execution_count": null,
   "id": "f4c1ce2e",
   "metadata": {},
   "outputs": [],
   "source": [
    "sns.scatterplot(x = 'latitude', y='longitude', data=train_Ventura[train_Ventura.bathroomcnt < 2], hue='logerror_bin')\n",
    "plt.title('Calculated Square Feet Plotted Against Year Built')\n",
    "plt.show"
   ]
  },
  {
   "cell_type": "code",
   "execution_count": null,
   "id": "db95d9eb",
   "metadata": {},
   "outputs": [],
   "source": [
    "sns.scatterplot(x = 'latitude', y='longitude', data=train_Ventura[train_Ventura.bathroomcnt > 2], hue='logerror_bin')\n",
    "plt.title('Calculated Square Feet Plotted Against Year Built')\n",
    "plt.show"
   ]
  },
  {
   "cell_type": "code",
   "execution_count": null,
   "id": "7900b975",
   "metadata": {},
   "outputs": [],
   "source": [
    "sns.scatterplot(x = 'finishedsquarefeet12', y='yearbuilt', data=train_Ventura, hue='logerror_bin')\n",
    "plt.title('Bathroom Count Plotted Against Year Built')\n",
    "plt.show"
   ]
  },
  {
   "cell_type": "code",
   "execution_count": null,
   "id": "2d501052",
   "metadata": {},
   "outputs": [],
   "source": [
    "sns.scatterplot(x = 'latitude', y='longitude', data=train_Ventura, hue='logerror_bin')\n",
    "plt.title('Latitude plotted against longitude in Ventura County')\n",
    "plt.show"
   ]
  },
  {
   "cell_type": "code",
   "execution_count": null,
   "id": "6e1079f9",
   "metadata": {},
   "outputs": [],
   "source": [
    "sns.scatterplot(x = 'latitude', y='longitude', data=train_Ventura[train_Ventura.bathroomcnt == 1], hue='logerror_bin')\n",
    "plt.show"
   ]
  },
  {
   "cell_type": "code",
   "execution_count": null,
   "id": "3365d6f4",
   "metadata": {},
   "outputs": [],
   "source": [
    "sns.scatterplot(x = 'latitude', y='longitude', data=train_Ventura[train_Ventura.bathroomcnt == 1.5], hue='logerror_bin')\n",
    "plt.show"
   ]
  },
  {
   "cell_type": "code",
   "execution_count": null,
   "id": "5c588a87",
   "metadata": {},
   "outputs": [],
   "source": [
    "sns.scatterplot(x = 'latitude', y='longitude', data=train_Ventura[train_Ventura.bathroomcnt == 2], hue='logerror_bin')\n",
    "plt.show"
   ]
  },
  {
   "cell_type": "code",
   "execution_count": null,
   "id": "80546193",
   "metadata": {},
   "outputs": [],
   "source": [
    "sns.scatterplot(x = 'latitude', y='longitude', data=train_Ventura[train_Ventura.bathroomcnt == 2.5], hue='logerror_bin')\n",
    "plt.show"
   ]
  },
  {
   "cell_type": "code",
   "execution_count": null,
   "id": "acd2769d",
   "metadata": {},
   "outputs": [],
   "source": [
    "sns.scatterplot(x = 'latitude', y='longitude', data=train_Ventura[train_Ventura.bathroomcnt == 3], hue='logerror_bin')\n",
    "plt.show"
   ]
  },
  {
   "cell_type": "code",
   "execution_count": null,
   "id": "829186f4",
   "metadata": {},
   "outputs": [],
   "source": [
    "sns.scatterplot(x = 'latitude', y='longitude', data=train_Ventura[train_Ventura.bathroomcnt == 3.5], hue='logerror_bin')\n",
    "plt.show"
   ]
  },
  {
   "cell_type": "code",
   "execution_count": null,
   "id": "5eaee124",
   "metadata": {},
   "outputs": [],
   "source": [
    "sns.scatterplot(x = 'latitude', y='longitude', data=train_Ventura[train_Ventura.bathroomcnt == 4], hue='logerror_bin')\n",
    "plt.show"
   ]
  },
  {
   "cell_type": "code",
   "execution_count": null,
   "id": "fb756000",
   "metadata": {},
   "outputs": [],
   "source": [
    "sns.scatterplot(x = 'latitude', y='longitude', data=train_Ventura[train_Ventura.bathroomcnt == 4.5], hue='logerror_bin')\n",
    "plt.show"
   ]
  },
  {
   "cell_type": "code",
   "execution_count": null,
   "id": "ff1eb62f",
   "metadata": {},
   "outputs": [],
   "source": [
    "sns.scatterplot(x = 'latitude', y='longitude', data=train_Ventura[train_Ventura.bathroomcnt == 5], hue='logerror_bin')\n",
    "plt.show"
   ]
  },
  {
   "cell_type": "markdown",
   "id": "0e43904a",
   "metadata": {},
   "source": [
    "### Orange "
   ]
  },
  {
   "cell_type": "code",
   "execution_count": null,
   "id": "9be2780b",
   "metadata": {},
   "outputs": [],
   "source": [
    "train_Orange.shape"
   ]
  },
  {
   "cell_type": "code",
   "execution_count": null,
   "id": "abaff680",
   "metadata": {},
   "outputs": [],
   "source": [
    "train_Orange.columns"
   ]
  },
  {
   "cell_type": "code",
   "execution_count": null,
   "id": "f0580bc3",
   "metadata": {},
   "outputs": [],
   "source": [
    "train_Orange.propertylandusedesc.value_counts()"
   ]
  },
  {
   "cell_type": "code",
   "execution_count": null,
   "id": "4d5916c5",
   "metadata": {},
   "outputs": [],
   "source": [
    "sns.scatterplot(x = 'longitude', y='taxamount', data=train_Orange[train_Orange.propertylandusedesc == 'Condominium'], hue='logerror_bin')\n",
    "plt.title('Bathroom Count Plotted Against Year Built')\n",
    "plt.show"
   ]
  },
  {
   "cell_type": "code",
   "execution_count": null,
   "id": "bbbf714b",
   "metadata": {},
   "outputs": [],
   "source": [
    "sns.scatterplot(x = 'bathroomcnt', y='yearbuilt', data=train_Orange[train_Orange, hue='logerror_bin')\n",
    "plt.title('Bathroom Count Plotted Against Year Built')\n",
    "plt.show"
   ]
  },
  {
   "cell_type": "code",
   "execution_count": null,
   "id": "2d4f4e82",
   "metadata": {},
   "outputs": [],
   "source": [
    "sns.scatterplot(x = 'calculatedfinishedsquarefeet', y='yearbuilt', data=train_Orange, hue='logerror_bin')\n",
    "plt.title('Bathroom Count Plotted Against Year Built')\n",
    "plt.show"
   ]
  },
  {
   "cell_type": "code",
   "execution_count": null,
   "id": "ed10abb6",
   "metadata": {},
   "outputs": [],
   "source": [
    "sns.scatterplot(x = 'finishedsquarefeet12', y='yearbuilt', data=train_Orange, hue='logerror_bin')\n",
    "plt.title('Bathroom Count Plotted Against Year Built')\n",
    "plt.show"
   ]
  },
  {
   "cell_type": "code",
   "execution_count": null,
   "id": "8ae95587",
   "metadata": {},
   "outputs": [],
   "source": [
    "sns.scatterplot(x = 'latitude', y='longitude', data=train_Orange, hue='logerror_bin')\n",
    "plt.title('Bathroom Count Plotted Against Year Built')\n",
    "plt.show"
   ]
  },
  {
   "cell_type": "markdown",
   "id": "b6f5697c",
   "metadata": {},
   "source": [
    "### LA"
   ]
  },
  {
   "cell_type": "code",
   "execution_count": null,
   "id": "e1d3ca48",
   "metadata": {},
   "outputs": [],
   "source": [
    "train_LA.shape"
   ]
  },
  {
   "cell_type": "code",
   "execution_count": null,
   "id": "ac890a0f",
   "metadata": {},
   "outputs": [],
   "source": [
    "sns.scatterplot(x = 'bathroomcnt', y='yearbuilt', data=train_LA, hue='logerror_bin')\n",
    "plt.title('Bathroom Count Plotted Against Year Built')\n",
    "plt.show"
   ]
  },
  {
   "cell_type": "code",
   "execution_count": null,
   "id": "5cf7ee82",
   "metadata": {},
   "outputs": [],
   "source": [
    "sns.scatterplot(x = 'calculatedfinishedsquarefeet', y='yearbuilt', data=train_LA, hue='logerror_bin')\n",
    "plt.title('Bathroom Count Plotted Against Year Built')\n",
    "plt.show"
   ]
  },
  {
   "cell_type": "code",
   "execution_count": null,
   "id": "888bd25d",
   "metadata": {},
   "outputs": [],
   "source": [
    "sns.scatterplot(x = 'finishedsquarefeet12', y='yearbuilt', data=train_LA, hue='logerror_bin')\n",
    "plt.title('Bathroom Count Plotted Against Year Built')\n",
    "plt.show"
   ]
  },
  {
   "cell_type": "code",
   "execution_count": null,
   "id": "510b46cb",
   "metadata": {},
   "outputs": [],
   "source": [
    "sns.scatterplot(x = 'latitude', y='longitude', data=train_LA, hue='logerror_bin')\n",
    "plt.title('Bathroom Count Plotted Against Year Built')\n",
    "plt.show"
   ]
  }
 ],
 "metadata": {
  "kernelspec": {
   "display_name": "Python 3 (ipykernel)",
   "language": "python",
   "name": "python3"
  },
  "language_info": {
   "codemirror_mode": {
    "name": "ipython",
    "version": 3
   },
   "file_extension": ".py",
   "mimetype": "text/x-python",
   "name": "python",
   "nbconvert_exporter": "python",
   "pygments_lexer": "ipython3",
   "version": "3.9.7"
  }
 },
 "nbformat": 4,
 "nbformat_minor": 5
}
