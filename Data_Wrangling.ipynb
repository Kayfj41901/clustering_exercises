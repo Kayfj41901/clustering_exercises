{
 "cells": [
  {
   "cell_type": "code",
   "execution_count": 3,
   "id": "323d0a78",
   "metadata": {},
   "outputs": [],
   "source": [
    "# ignore warnings\n",
    "import warnings\n",
    "warnings.filterwarnings(\"ignore\")\n",
    "\n",
    "# Wrangling\n",
    "import pandas as pd\n",
    "import numpy as np\n",
    "\n",
    "# Exploring\n",
    "import scipy.stats as stats\n",
    "\n",
    "# Visualizing\n",
    "%matplotlib inline\n",
    "import matplotlib.pyplot as plt\n",
    "import seaborn as sns\n",
    "\n",
    "from sklearn.model_selection import train_test_split \n",
    "from sklearn.preprocessing import MinMaxScaler\n",
    "\n",
    "import env\n",
    "import os \n",
    "\n",
    "import wrangle_zillow\n",
    "\n",
    "df = wrangle_zillow.acquire()\n",
    "\n",
    "pd.options.display.max_rows = 100 \n",
    "\n",
    "# default pandas decimal number display format\n",
    "pd.options.display.float_format = '{:20,.2f}'.format\n",
    "\n",
    "#import acquire\n",
    "#import summarize\n",
    "#import prepare"
   ]
  },
  {
   "cell_type": "markdown",
   "id": "eb307f0d",
   "metadata": {},
   "source": [
    "### Learning Goals \n",
    "- Acquire a sample of data from SQL.\n",
    "- Identify null values, which nulls are 'deal-breakers', i.e. rows removed, which nulls should be represented by 0, and which should be replaced by a value from other methods, such as mean.\n",
    "- Identify outliers and decide what to do with them, if anything (remove, keep as-is, replace).\n",
    "- Data Structure: Aggregate as needed so that every row is an observation and each column is a variable (1 variable and not a measure).\n"
   ]
  },
  {
   "cell_type": "code",
   "execution_count": 4,
   "id": "8405a284",
   "metadata": {},
   "outputs": [
    {
     "name": "stdout",
     "output_type": "stream",
     "text": [
      "--- Shape: (77380, 68)\n",
      "--- Info\n",
      "<class 'pandas.core.frame.DataFrame'>\n",
      "RangeIndex: 77380 entries, 0 to 77379\n",
      "Data columns (total 68 columns):\n",
      " #   Column                        Non-Null Count  Dtype  \n",
      "---  ------                        --------------  -----  \n",
      " 0   id                            77380 non-null  int64  \n",
      " 1   parcelid                      77380 non-null  int64  \n",
      " 2   airconditioningtypeid         24953 non-null  float64\n",
      " 3   architecturalstyletypeid      206 non-null    float64\n",
      " 4   basementsqft                  50 non-null     float64\n",
      " 5   bathroomcnt                   77380 non-null  float64\n",
      " 6   bedroomcnt                    77380 non-null  float64\n",
      " 7   buildingclasstypeid           15 non-null     float64\n",
      " 8   buildingqualitytypeid         49671 non-null  float64\n",
      " 9   calculatedbathnbr             76771 non-null  float64\n",
      " 10  decktypeid                    614 non-null    float64\n",
      " 11  finishedfloor1squarefeet      6023 non-null   float64\n",
      " 12  calculatedfinishedsquarefeet  77184 non-null  float64\n",
      " 13  finishedsquarefeet12          73748 non-null  float64\n",
      " 14  finishedsquarefeet13          41 non-null     float64\n",
      " 15  finishedsquarefeet15          3009 non-null   float64\n",
      " 16  finishedsquarefeet50          6023 non-null   float64\n",
      " 17  finishedsquarefeet6           386 non-null    float64\n",
      " 18  fips                          77380 non-null  float64\n",
      " 19  fireplacecnt                  8276 non-null   float64\n",
      " 20  fullbathcnt                   76771 non-null  float64\n",
      " 21  garagecarcnt                  25474 non-null  float64\n",
      " 22  garagetotalsqft               25474 non-null  float64\n",
      " 23  hashottuborspa                1538 non-null   float64\n",
      " 24  heatingorsystemtypeid         49439 non-null  float64\n",
      " 25  latitude                      77380 non-null  float64\n",
      " 26  longitude                     77380 non-null  float64\n",
      " 27  lotsizesquarefeet             69141 non-null  float64\n",
      " 28  poolcnt                       16137 non-null  float64\n",
      " 29  poolsizesum                   867 non-null    float64\n",
      " 30  pooltypeid10                  464 non-null    float64\n",
      " 31  pooltypeid2                   1074 non-null   float64\n",
      " 32  pooltypeid7                   15042 non-null  float64\n",
      " 33  propertycountylandusecode     77380 non-null  object \n",
      " 34  propertylandusetypeid         77380 non-null  float64\n",
      " 35  propertyzoningdesc            50330 non-null  object \n",
      " 36  rawcensustractandblock        77380 non-null  float64\n",
      " 37  regionidcity                  75909 non-null  float64\n",
      " 38  regionidcounty                77380 non-null  float64\n",
      " 39  regionidneighborhood          30890 non-null  float64\n",
      " 40  regionidzip                   77330 non-null  float64\n",
      " 41  roomcnt                       77380 non-null  float64\n",
      " 42  storytypeid                   50 non-null     float64\n",
      " 43  threequarterbathnbr           10096 non-null  float64\n",
      " 44  typeconstructiontypeid        222 non-null    float64\n",
      " 45  unitcnt                       50562 non-null  float64\n",
      " 46  yardbuildingsqft17            2388 non-null   float64\n",
      " 47  yardbuildingsqft26            70 non-null     float64\n",
      " 48  yearbuilt                     77117 non-null  float64\n",
      " 49  numberofstories               17560 non-null  float64\n",
      " 50  fireplaceflag                 172 non-null    float64\n",
      " 51  structuretaxvaluedollarcnt    77268 non-null  float64\n",
      " 52  taxvaluedollarcnt             77379 non-null  float64\n",
      " 53  assessmentyear                77380 non-null  float64\n",
      " 54  landtaxvaluedollarcnt         77378 non-null  float64\n",
      " 55  taxamount                     77375 non-null  float64\n",
      " 56  taxdelinquencyflag            2886 non-null   object \n",
      " 57  taxdelinquencyyear            2886 non-null   float64\n",
      " 58  censustractandblock           77136 non-null  float64\n",
      " 59  logerror                      77380 non-null  float64\n",
      " 60  transactiondate               77380 non-null  object \n",
      " 61  airconditioningdesc           24953 non-null  object \n",
      " 62  architecturalstyledesc        206 non-null    object \n",
      " 63  buildingclassdesc             15 non-null     object \n",
      " 64  heatingorsystemdesc           49439 non-null  object \n",
      " 65  propertylandusedesc           77380 non-null  object \n",
      " 66  storydesc                     50 non-null     object \n",
      " 67  typeconstructiondesc          222 non-null    object \n",
      "dtypes: float64(55), int64(2), object(11)\n",
      "memory usage: 40.1+ MB\n",
      "--- Column Descriptions\n",
      "                         id             parcelid  airconditioningtypeid  \\\n",
      "count             77,380.00            77,380.00              24,953.00   \n",
      "unique                  NaN                  NaN                    NaN   \n",
      "top                     NaN                  NaN                    NaN   \n",
      "freq                    NaN                  NaN                    NaN   \n",
      "mean           1,495,126.49        13,007,149.52                   1.81   \n",
      "std              860,905.69         3,481,368.13                   2.97   \n",
      "min                  349.00        10,711,855.00                   1.00   \n",
      "25%              752,050.00        11,538,296.75                   1.00   \n",
      "50%            1,497,870.00        12,531,548.50                   1.00   \n",
      "75%            2,240,480.25        14,211,843.75                   1.00   \n",
      "max            2,982,274.00       167,689,317.00                  13.00   \n",
      "\n",
      "        architecturalstyletypeid         basementsqft          bathroomcnt  \\\n",
      "count                     206.00                50.00            77,380.00   \n",
      "unique                       NaN                  NaN                  NaN   \n",
      "top                          NaN                  NaN                  NaN   \n",
      "freq                         NaN                  NaN                  NaN   \n",
      "mean                        7.39               679.72                 2.30   \n",
      "std                         2.73               689.70                 1.00   \n",
      "min                         2.00                38.00                 0.00   \n",
      "25%                         7.00               273.00                 2.00   \n",
      "50%                         7.00               515.00                 2.00   \n",
      "75%                         7.00               796.50                 3.00   \n",
      "max                        21.00             3,560.00                18.00   \n",
      "\n",
      "                 bedroomcnt  buildingclasstypeid  buildingqualitytypeid  \\\n",
      "count             77,380.00                15.00              49,671.00   \n",
      "unique                  NaN                  NaN                    NaN   \n",
      "top                     NaN                  NaN                    NaN   \n",
      "freq                    NaN                  NaN                    NaN   \n",
      "mean                   3.05                 3.93                   6.53   \n",
      "std                    1.14                 0.26                   1.72   \n",
      "min                    0.00                 3.00                   1.00   \n",
      "25%                    2.00                 4.00                   6.00   \n",
      "50%                    3.00                 4.00                   6.00   \n",
      "75%                    4.00                 4.00                   8.00   \n",
      "max                   16.00                 4.00                  12.00   \n",
      "\n",
      "          calculatedbathnbr  ...    censustractandblock             logerror  \\\n",
      "count             76,771.00  ...              77,136.00            77,380.00   \n",
      "unique                  NaN  ...                    NaN                  NaN   \n",
      "top                     NaN  ...                    NaN                  NaN   \n",
      "freq                    NaN  ...                    NaN                  NaN   \n",
      "mean                   2.32  ...  60,496,735,236,341.99                 0.02   \n",
      "std                    0.98  ...   1,535,251,869,244.56                 0.17   \n",
      "min                    1.00  ...  60,371,011,101,000.00                -4.66   \n",
      "25%                    2.00  ...  60,373,109,005,001.75                -0.02   \n",
      "50%                    2.00  ...  60,376,032,003,008.00                 0.01   \n",
      "75%                    3.00  ...  60,590,423,251,008.00                 0.04   \n",
      "max                   18.00  ... 483,030,105,084,015.00                 5.26   \n",
      "\n",
      "        transactiondate  airconditioningdesc  architecturalstyledesc  \\\n",
      "count             77380                24953                     206   \n",
      "unique              264                    5                       5   \n",
      "top          2017-06-30              Central            Contemporary   \n",
      "freq               1189                23133                     172   \n",
      "mean                NaN                  NaN                     NaN   \n",
      "std                 NaN                  NaN                     NaN   \n",
      "min                 NaN                  NaN                     NaN   \n",
      "25%                 NaN                  NaN                     NaN   \n",
      "50%                 NaN                  NaN                     NaN   \n",
      "75%                 NaN                  NaN                     NaN   \n",
      "max                 NaN                  NaN                     NaN   \n",
      "\n",
      "                                     buildingclassdesc  heatingorsystemdesc  \\\n",
      "count                                               15                49439   \n",
      "unique                                               2                   10   \n",
      "top     Buildings having wood or wood and steel frames              Central   \n",
      "freq                                                14                33550   \n",
      "mean                                               NaN                  NaN   \n",
      "std                                                NaN                  NaN   \n",
      "min                                                NaN                  NaN   \n",
      "25%                                                NaN                  NaN   \n",
      "50%                                                NaN                  NaN   \n",
      "75%                                                NaN                  NaN   \n",
      "max                                                NaN                  NaN   \n",
      "\n",
      "              propertylandusedesc  storydesc  typeconstructiondesc  \n",
      "count                       77380         50                   222  \n",
      "unique                         13          1                     4  \n",
      "top     Single Family Residential   Basement                 Frame  \n",
      "freq                        52319         50                   219  \n",
      "mean                          NaN        NaN                   NaN  \n",
      "std                           NaN        NaN                   NaN  \n",
      "min                           NaN        NaN                   NaN  \n",
      "25%                           NaN        NaN                   NaN  \n",
      "50%                           NaN        NaN                   NaN  \n",
      "75%                           NaN        NaN                   NaN  \n",
      "max                           NaN        NaN                   NaN  \n",
      "\n",
      "[11 rows x 68 columns]\n"
     ]
    }
   ],
   "source": [
    "wrangle_zillow.overview(df)"
   ]
  },
  {
   "cell_type": "code",
   "execution_count": 5,
   "id": "d11cd006",
   "metadata": {},
   "outputs": [
    {
     "data": {
      "text/html": [
       "<div>\n",
       "<style scoped>\n",
       "    .dataframe tbody tr th:only-of-type {\n",
       "        vertical-align: middle;\n",
       "    }\n",
       "\n",
       "    .dataframe tbody tr th {\n",
       "        vertical-align: top;\n",
       "    }\n",
       "\n",
       "    .dataframe thead th {\n",
       "        text-align: right;\n",
       "    }\n",
       "</style>\n",
       "<table border=\"1\" class=\"dataframe\">\n",
       "  <thead>\n",
       "    <tr style=\"text-align: right;\">\n",
       "      <th></th>\n",
       "      <th>count</th>\n",
       "      <th>percent</th>\n",
       "    </tr>\n",
       "  </thead>\n",
       "  <tbody>\n",
       "    <tr>\n",
       "      <th>id</th>\n",
       "      <td>0</td>\n",
       "      <td>0.00</td>\n",
       "    </tr>\n",
       "    <tr>\n",
       "      <th>propertylandusedesc</th>\n",
       "      <td>0</td>\n",
       "      <td>0.00</td>\n",
       "    </tr>\n",
       "    <tr>\n",
       "      <th>transactiondate</th>\n",
       "      <td>0</td>\n",
       "      <td>0.00</td>\n",
       "    </tr>\n",
       "    <tr>\n",
       "      <th>logerror</th>\n",
       "      <td>0</td>\n",
       "      <td>0.00</td>\n",
       "    </tr>\n",
       "    <tr>\n",
       "      <th>assessmentyear</th>\n",
       "      <td>0</td>\n",
       "      <td>0.00</td>\n",
       "    </tr>\n",
       "    <tr>\n",
       "      <th>roomcnt</th>\n",
       "      <td>0</td>\n",
       "      <td>0.00</td>\n",
       "    </tr>\n",
       "    <tr>\n",
       "      <th>regionidcounty</th>\n",
       "      <td>0</td>\n",
       "      <td>0.00</td>\n",
       "    </tr>\n",
       "    <tr>\n",
       "      <th>rawcensustractandblock</th>\n",
       "      <td>0</td>\n",
       "      <td>0.00</td>\n",
       "    </tr>\n",
       "    <tr>\n",
       "      <th>propertylandusetypeid</th>\n",
       "      <td>0</td>\n",
       "      <td>0.00</td>\n",
       "    </tr>\n",
       "    <tr>\n",
       "      <th>longitude</th>\n",
       "      <td>0</td>\n",
       "      <td>0.00</td>\n",
       "    </tr>\n",
       "    <tr>\n",
       "      <th>latitude</th>\n",
       "      <td>0</td>\n",
       "      <td>0.00</td>\n",
       "    </tr>\n",
       "    <tr>\n",
       "      <th>fips</th>\n",
       "      <td>0</td>\n",
       "      <td>0.00</td>\n",
       "    </tr>\n",
       "    <tr>\n",
       "      <th>propertycountylandusecode</th>\n",
       "      <td>0</td>\n",
       "      <td>0.00</td>\n",
       "    </tr>\n",
       "    <tr>\n",
       "      <th>parcelid</th>\n",
       "      <td>0</td>\n",
       "      <td>0.00</td>\n",
       "    </tr>\n",
       "    <tr>\n",
       "      <th>bathroomcnt</th>\n",
       "      <td>0</td>\n",
       "      <td>0.00</td>\n",
       "    </tr>\n",
       "    <tr>\n",
       "      <th>bedroomcnt</th>\n",
       "      <td>0</td>\n",
       "      <td>0.00</td>\n",
       "    </tr>\n",
       "    <tr>\n",
       "      <th>taxvaluedollarcnt</th>\n",
       "      <td>1</td>\n",
       "      <td>0.00</td>\n",
       "    </tr>\n",
       "    <tr>\n",
       "      <th>landtaxvaluedollarcnt</th>\n",
       "      <td>2</td>\n",
       "      <td>0.00</td>\n",
       "    </tr>\n",
       "    <tr>\n",
       "      <th>taxamount</th>\n",
       "      <td>5</td>\n",
       "      <td>0.00</td>\n",
       "    </tr>\n",
       "    <tr>\n",
       "      <th>regionidzip</th>\n",
       "      <td>50</td>\n",
       "      <td>0.00</td>\n",
       "    </tr>\n",
       "    <tr>\n",
       "      <th>structuretaxvaluedollarcnt</th>\n",
       "      <td>112</td>\n",
       "      <td>0.00</td>\n",
       "    </tr>\n",
       "    <tr>\n",
       "      <th>calculatedfinishedsquarefeet</th>\n",
       "      <td>196</td>\n",
       "      <td>0.00</td>\n",
       "    </tr>\n",
       "    <tr>\n",
       "      <th>censustractandblock</th>\n",
       "      <td>244</td>\n",
       "      <td>0.00</td>\n",
       "    </tr>\n",
       "    <tr>\n",
       "      <th>yearbuilt</th>\n",
       "      <td>263</td>\n",
       "      <td>0.00</td>\n",
       "    </tr>\n",
       "    <tr>\n",
       "      <th>fullbathcnt</th>\n",
       "      <td>609</td>\n",
       "      <td>0.01</td>\n",
       "    </tr>\n",
       "    <tr>\n",
       "      <th>calculatedbathnbr</th>\n",
       "      <td>609</td>\n",
       "      <td>0.01</td>\n",
       "    </tr>\n",
       "    <tr>\n",
       "      <th>regionidcity</th>\n",
       "      <td>1471</td>\n",
       "      <td>0.02</td>\n",
       "    </tr>\n",
       "    <tr>\n",
       "      <th>finishedsquarefeet12</th>\n",
       "      <td>3632</td>\n",
       "      <td>0.05</td>\n",
       "    </tr>\n",
       "    <tr>\n",
       "      <th>lotsizesquarefeet</th>\n",
       "      <td>8239</td>\n",
       "      <td>0.11</td>\n",
       "    </tr>\n",
       "    <tr>\n",
       "      <th>unitcnt</th>\n",
       "      <td>26818</td>\n",
       "      <td>0.35</td>\n",
       "    </tr>\n",
       "    <tr>\n",
       "      <th>propertyzoningdesc</th>\n",
       "      <td>27050</td>\n",
       "      <td>0.35</td>\n",
       "    </tr>\n",
       "    <tr>\n",
       "      <th>buildingqualitytypeid</th>\n",
       "      <td>27709</td>\n",
       "      <td>0.36</td>\n",
       "    </tr>\n",
       "    <tr>\n",
       "      <th>heatingorsystemdesc</th>\n",
       "      <td>27941</td>\n",
       "      <td>0.36</td>\n",
       "    </tr>\n",
       "    <tr>\n",
       "      <th>heatingorsystemtypeid</th>\n",
       "      <td>27941</td>\n",
       "      <td>0.36</td>\n",
       "    </tr>\n",
       "    <tr>\n",
       "      <th>regionidneighborhood</th>\n",
       "      <td>46490</td>\n",
       "      <td>0.60</td>\n",
       "    </tr>\n",
       "    <tr>\n",
       "      <th>garagetotalsqft</th>\n",
       "      <td>51906</td>\n",
       "      <td>0.67</td>\n",
       "    </tr>\n",
       "    <tr>\n",
       "      <th>garagecarcnt</th>\n",
       "      <td>51906</td>\n",
       "      <td>0.67</td>\n",
       "    </tr>\n",
       "    <tr>\n",
       "      <th>airconditioningdesc</th>\n",
       "      <td>52427</td>\n",
       "      <td>0.68</td>\n",
       "    </tr>\n",
       "    <tr>\n",
       "      <th>airconditioningtypeid</th>\n",
       "      <td>52427</td>\n",
       "      <td>0.68</td>\n",
       "    </tr>\n",
       "    <tr>\n",
       "      <th>numberofstories</th>\n",
       "      <td>59820</td>\n",
       "      <td>0.77</td>\n",
       "    </tr>\n",
       "    <tr>\n",
       "      <th>poolcnt</th>\n",
       "      <td>61243</td>\n",
       "      <td>0.79</td>\n",
       "    </tr>\n",
       "    <tr>\n",
       "      <th>pooltypeid7</th>\n",
       "      <td>62338</td>\n",
       "      <td>0.81</td>\n",
       "    </tr>\n",
       "    <tr>\n",
       "      <th>threequarterbathnbr</th>\n",
       "      <td>67284</td>\n",
       "      <td>0.87</td>\n",
       "    </tr>\n",
       "    <tr>\n",
       "      <th>fireplacecnt</th>\n",
       "      <td>69104</td>\n",
       "      <td>0.89</td>\n",
       "    </tr>\n",
       "    <tr>\n",
       "      <th>finishedfloor1squarefeet</th>\n",
       "      <td>71357</td>\n",
       "      <td>0.92</td>\n",
       "    </tr>\n",
       "    <tr>\n",
       "      <th>finishedsquarefeet50</th>\n",
       "      <td>71357</td>\n",
       "      <td>0.92</td>\n",
       "    </tr>\n",
       "    <tr>\n",
       "      <th>finishedsquarefeet15</th>\n",
       "      <td>74371</td>\n",
       "      <td>0.96</td>\n",
       "    </tr>\n",
       "    <tr>\n",
       "      <th>taxdelinquencyyear</th>\n",
       "      <td>74494</td>\n",
       "      <td>0.96</td>\n",
       "    </tr>\n",
       "    <tr>\n",
       "      <th>taxdelinquencyflag</th>\n",
       "      <td>74494</td>\n",
       "      <td>0.96</td>\n",
       "    </tr>\n",
       "    <tr>\n",
       "      <th>yardbuildingsqft17</th>\n",
       "      <td>74992</td>\n",
       "      <td>0.97</td>\n",
       "    </tr>\n",
       "    <tr>\n",
       "      <th>hashottuborspa</th>\n",
       "      <td>75842</td>\n",
       "      <td>0.98</td>\n",
       "    </tr>\n",
       "    <tr>\n",
       "      <th>pooltypeid2</th>\n",
       "      <td>76306</td>\n",
       "      <td>0.99</td>\n",
       "    </tr>\n",
       "    <tr>\n",
       "      <th>poolsizesum</th>\n",
       "      <td>76513</td>\n",
       "      <td>0.99</td>\n",
       "    </tr>\n",
       "    <tr>\n",
       "      <th>decktypeid</th>\n",
       "      <td>76766</td>\n",
       "      <td>0.99</td>\n",
       "    </tr>\n",
       "    <tr>\n",
       "      <th>pooltypeid10</th>\n",
       "      <td>76916</td>\n",
       "      <td>0.99</td>\n",
       "    </tr>\n",
       "    <tr>\n",
       "      <th>finishedsquarefeet6</th>\n",
       "      <td>76994</td>\n",
       "      <td>1.00</td>\n",
       "    </tr>\n",
       "    <tr>\n",
       "      <th>typeconstructiondesc</th>\n",
       "      <td>77158</td>\n",
       "      <td>1.00</td>\n",
       "    </tr>\n",
       "    <tr>\n",
       "      <th>typeconstructiontypeid</th>\n",
       "      <td>77158</td>\n",
       "      <td>1.00</td>\n",
       "    </tr>\n",
       "    <tr>\n",
       "      <th>architecturalstyletypeid</th>\n",
       "      <td>77174</td>\n",
       "      <td>1.00</td>\n",
       "    </tr>\n",
       "    <tr>\n",
       "      <th>architecturalstyledesc</th>\n",
       "      <td>77174</td>\n",
       "      <td>1.00</td>\n",
       "    </tr>\n",
       "    <tr>\n",
       "      <th>fireplaceflag</th>\n",
       "      <td>77208</td>\n",
       "      <td>1.00</td>\n",
       "    </tr>\n",
       "    <tr>\n",
       "      <th>yardbuildingsqft26</th>\n",
       "      <td>77310</td>\n",
       "      <td>1.00</td>\n",
       "    </tr>\n",
       "    <tr>\n",
       "      <th>storytypeid</th>\n",
       "      <td>77330</td>\n",
       "      <td>1.00</td>\n",
       "    </tr>\n",
       "    <tr>\n",
       "      <th>storydesc</th>\n",
       "      <td>77330</td>\n",
       "      <td>1.00</td>\n",
       "    </tr>\n",
       "    <tr>\n",
       "      <th>basementsqft</th>\n",
       "      <td>77330</td>\n",
       "      <td>1.00</td>\n",
       "    </tr>\n",
       "    <tr>\n",
       "      <th>finishedsquarefeet13</th>\n",
       "      <td>77339</td>\n",
       "      <td>1.00</td>\n",
       "    </tr>\n",
       "    <tr>\n",
       "      <th>buildingclasstypeid</th>\n",
       "      <td>77365</td>\n",
       "      <td>1.00</td>\n",
       "    </tr>\n",
       "    <tr>\n",
       "      <th>buildingclassdesc</th>\n",
       "      <td>77365</td>\n",
       "      <td>1.00</td>\n",
       "    </tr>\n",
       "  </tbody>\n",
       "</table>\n",
       "</div>"
      ],
      "text/plain": [
       "                              count              percent\n",
       "id                                0                 0.00\n",
       "propertylandusedesc               0                 0.00\n",
       "transactiondate                   0                 0.00\n",
       "logerror                          0                 0.00\n",
       "assessmentyear                    0                 0.00\n",
       "roomcnt                           0                 0.00\n",
       "regionidcounty                    0                 0.00\n",
       "rawcensustractandblock            0                 0.00\n",
       "propertylandusetypeid             0                 0.00\n",
       "longitude                         0                 0.00\n",
       "latitude                          0                 0.00\n",
       "fips                              0                 0.00\n",
       "propertycountylandusecode         0                 0.00\n",
       "parcelid                          0                 0.00\n",
       "bathroomcnt                       0                 0.00\n",
       "bedroomcnt                        0                 0.00\n",
       "taxvaluedollarcnt                 1                 0.00\n",
       "landtaxvaluedollarcnt             2                 0.00\n",
       "taxamount                         5                 0.00\n",
       "regionidzip                      50                 0.00\n",
       "structuretaxvaluedollarcnt      112                 0.00\n",
       "calculatedfinishedsquarefeet    196                 0.00\n",
       "censustractandblock             244                 0.00\n",
       "yearbuilt                       263                 0.00\n",
       "fullbathcnt                     609                 0.01\n",
       "calculatedbathnbr               609                 0.01\n",
       "regionidcity                   1471                 0.02\n",
       "finishedsquarefeet12           3632                 0.05\n",
       "lotsizesquarefeet              8239                 0.11\n",
       "unitcnt                       26818                 0.35\n",
       "propertyzoningdesc            27050                 0.35\n",
       "buildingqualitytypeid         27709                 0.36\n",
       "heatingorsystemdesc           27941                 0.36\n",
       "heatingorsystemtypeid         27941                 0.36\n",
       "regionidneighborhood          46490                 0.60\n",
       "garagetotalsqft               51906                 0.67\n",
       "garagecarcnt                  51906                 0.67\n",
       "airconditioningdesc           52427                 0.68\n",
       "airconditioningtypeid         52427                 0.68\n",
       "numberofstories               59820                 0.77\n",
       "poolcnt                       61243                 0.79\n",
       "pooltypeid7                   62338                 0.81\n",
       "threequarterbathnbr           67284                 0.87\n",
       "fireplacecnt                  69104                 0.89\n",
       "finishedfloor1squarefeet      71357                 0.92\n",
       "finishedsquarefeet50          71357                 0.92\n",
       "finishedsquarefeet15          74371                 0.96\n",
       "taxdelinquencyyear            74494                 0.96\n",
       "taxdelinquencyflag            74494                 0.96\n",
       "yardbuildingsqft17            74992                 0.97\n",
       "hashottuborspa                75842                 0.98\n",
       "pooltypeid2                   76306                 0.99\n",
       "poolsizesum                   76513                 0.99\n",
       "decktypeid                    76766                 0.99\n",
       "pooltypeid10                  76916                 0.99\n",
       "finishedsquarefeet6           76994                 1.00\n",
       "typeconstructiondesc          77158                 1.00\n",
       "typeconstructiontypeid        77158                 1.00\n",
       "architecturalstyletypeid      77174                 1.00\n",
       "architecturalstyledesc        77174                 1.00\n",
       "fireplaceflag                 77208                 1.00\n",
       "yardbuildingsqft26            77310                 1.00\n",
       "storytypeid                   77330                 1.00\n",
       "storydesc                     77330                 1.00\n",
       "basementsqft                  77330                 1.00\n",
       "finishedsquarefeet13          77339                 1.00\n",
       "buildingclasstypeid           77365                 1.00\n",
       "buildingclassdesc             77365                 1.00"
      ]
     },
     "execution_count": 5,
     "metadata": {},
     "output_type": "execute_result"
    }
   ],
   "source": [
    "wrangle_zillow.nulls_by_columns(df).sort_values(by='percent')"
   ]
  },
  {
   "cell_type": "code",
   "execution_count": 6,
   "id": "878e47c2",
   "metadata": {},
   "outputs": [
    {
     "data": {
      "text/plain": [
       "n_missing  percent_missing\n",
       "23         0.34                   2\n",
       "24         0.35                  13\n",
       "25         0.37                  24\n",
       "26         0.38                  65\n",
       "27         0.40                 316\n",
       "28         0.41                 455\n",
       "29         0.43                5270\n",
       "30         0.44                3455\n",
       "31         0.46                9891\n",
       "32         0.47               12579\n",
       "33         0.49               14782\n",
       "34         0.50               13326\n",
       "35         0.51                5148\n",
       "36         0.53                5775\n",
       "37         0.54                3620\n",
       "38         0.56                1925\n",
       "39         0.57                 285\n",
       "40         0.59                 230\n",
       "41         0.60                  29\n",
       "42         0.62                  23\n",
       "43         0.63                  28\n",
       "44         0.65                  78\n",
       "45         0.66                  50\n",
       "46         0.68                   5\n",
       "47         0.69                   3\n",
       "48         0.71                   3\n",
       "dtype: int64"
      ]
     },
     "execution_count": 6,
     "metadata": {},
     "output_type": "execute_result"
    }
   ],
   "source": [
    "wrangle_zillow.nulls_by_rows(df)"
   ]
  },
  {
   "cell_type": "code",
   "execution_count": 7,
   "id": "089c32ae",
   "metadata": {},
   "outputs": [
    {
     "name": "stdout",
     "output_type": "stream",
     "text": [
      "Before dropping nulls, 77380 rows, 68 cols\n",
      "After dropping nulls, 60178 rows, 34 cols\n"
     ]
    }
   ],
   "source": [
    "print('Before dropping nulls, %d rows, %d cols' % df.shape)\n",
    "df = wrangle_zillow.handle_missing_values(df, prop_required_column=.5, prop_required_row=.5)\n",
    "print('After dropping nulls, %d rows, %d cols' % df.shape)"
   ]
  },
  {
   "cell_type": "markdown",
   "id": "ccd5c15e",
   "metadata": {},
   "source": [
    "### Mall Customers "
   ]
  },
  {
   "cell_type": "markdown",
   "id": "3c6cfc15",
   "metadata": {},
   "source": [
    "- Acquire data from the customers table in the mall_customers database.\n",
    "- Summarize the data (include distributions and descriptive statistics).\n",
    "- Detect outliers using IQR.\n",
    "- Split data into train, validate, and test.\n",
    "- Encode categorical columns using a one hot encoder (pd.get_dummies).\n",
    "- Handles missing values.\n",
    "- Scaling"
   ]
  },
  {
   "cell_type": "code",
   "execution_count": 10,
   "id": "b1375eed",
   "metadata": {},
   "outputs": [],
   "source": [
    "database_url_base = f'mysql+pymysql://{env.user}:{env.password}@{env.host}/'"
   ]
  },
  {
   "cell_type": "code",
   "execution_count": 11,
   "id": "2a6bf855",
   "metadata": {},
   "outputs": [],
   "source": [
    "def get_mall_customers(use_cache=True):\n",
    "    if os.path.exists('mall_customers.csv') and use_cache:\n",
    "        print('Using cached csv')\n",
    "        return pd.read_csv('mall_customers.csv')\n",
    "    print('Acquiring data from SQL database')\n",
    "    query = 'SELECT * FROM customers'\n",
    "    df = pd.read_sql(query, database_url_base + 'mall_customers')\n",
    "    df.to_csv('mall_customers.csv', index=False)\n",
    "    return df\n"
   ]
  },
  {
   "cell_type": "code",
   "execution_count": 12,
   "id": "e360465f",
   "metadata": {},
   "outputs": [
    {
     "name": "stdout",
     "output_type": "stream",
     "text": [
      "Acquiring data from SQL database\n"
     ]
    }
   ],
   "source": [
    "mc_df = get_mall_customers()"
   ]
  },
  {
   "cell_type": "code",
   "execution_count": 71,
   "id": "398ffa73",
   "metadata": {},
   "outputs": [
    {
     "data": {
      "text/plain": [
       "customer_id       0\n",
       "gender            0\n",
       "age               0\n",
       "annual_income     0\n",
       "spending_score    0\n",
       "dtype: int64"
      ]
     },
     "execution_count": 71,
     "metadata": {},
     "output_type": "execute_result"
    }
   ],
   "source": [
    "#no missing values \n",
    "mc_df.isnull().sum()"
   ]
  },
  {
   "cell_type": "code",
   "execution_count": 79,
   "id": "d7d2fc1a",
   "metadata": {},
   "outputs": [],
   "source": [
    "#encode gender \n",
    "def one_hot_encoder(df):\n",
    "    df['is_female'] "
   ]
  },
  {
   "cell_type": "code",
   "execution_count": 80,
   "id": "924f0eaf",
   "metadata": {},
   "outputs": [
    {
     "data": {
      "text/html": [
       "<div>\n",
       "<style scoped>\n",
       "    .dataframe tbody tr th:only-of-type {\n",
       "        vertical-align: middle;\n",
       "    }\n",
       "\n",
       "    .dataframe tbody tr th {\n",
       "        vertical-align: top;\n",
       "    }\n",
       "\n",
       "    .dataframe thead th {\n",
       "        text-align: right;\n",
       "    }\n",
       "</style>\n",
       "<table border=\"1\" class=\"dataframe\">\n",
       "  <thead>\n",
       "    <tr style=\"text-align: right;\">\n",
       "      <th></th>\n",
       "      <th>customer_id</th>\n",
       "      <th>gender</th>\n",
       "      <th>age</th>\n",
       "      <th>annual_income</th>\n",
       "      <th>spending_score</th>\n",
       "      <th>is_male</th>\n",
       "    </tr>\n",
       "  </thead>\n",
       "  <tbody>\n",
       "    <tr>\n",
       "      <th>0</th>\n",
       "      <td>1</td>\n",
       "      <td>NaN</td>\n",
       "      <td>19</td>\n",
       "      <td>15</td>\n",
       "      <td>39</td>\n",
       "      <td>NaN</td>\n",
       "    </tr>\n",
       "    <tr>\n",
       "      <th>1</th>\n",
       "      <td>2</td>\n",
       "      <td>NaN</td>\n",
       "      <td>21</td>\n",
       "      <td>15</td>\n",
       "      <td>81</td>\n",
       "      <td>NaN</td>\n",
       "    </tr>\n",
       "  </tbody>\n",
       "</table>\n",
       "</div>"
      ],
      "text/plain": [
       "   customer_id gender  age  annual_income  spending_score  is_male\n",
       "0            1    NaN   19             15              39      NaN\n",
       "1            2    NaN   21             15              81      NaN"
      ]
     },
     "execution_count": 80,
     "metadata": {},
     "output_type": "execute_result"
    }
   ],
   "source": [
    "mc_df.head(2)"
   ]
  },
  {
   "cell_type": "code",
   "execution_count": 15,
   "id": "3dac7020",
   "metadata": {},
   "outputs": [
    {
     "data": {
      "text/html": [
       "<div>\n",
       "<style scoped>\n",
       "    .dataframe tbody tr th:only-of-type {\n",
       "        vertical-align: middle;\n",
       "    }\n",
       "\n",
       "    .dataframe tbody tr th {\n",
       "        vertical-align: top;\n",
       "    }\n",
       "\n",
       "    .dataframe thead th {\n",
       "        text-align: right;\n",
       "    }\n",
       "</style>\n",
       "<table border=\"1\" class=\"dataframe\">\n",
       "  <thead>\n",
       "    <tr style=\"text-align: right;\">\n",
       "      <th></th>\n",
       "      <th>customer_id</th>\n",
       "      <th>age</th>\n",
       "      <th>annual_income</th>\n",
       "      <th>spending_score</th>\n",
       "    </tr>\n",
       "  </thead>\n",
       "  <tbody>\n",
       "    <tr>\n",
       "      <th>count</th>\n",
       "      <td>200.00</td>\n",
       "      <td>200.00</td>\n",
       "      <td>200.00</td>\n",
       "      <td>200.00</td>\n",
       "    </tr>\n",
       "    <tr>\n",
       "      <th>mean</th>\n",
       "      <td>100.50</td>\n",
       "      <td>38.85</td>\n",
       "      <td>60.56</td>\n",
       "      <td>50.20</td>\n",
       "    </tr>\n",
       "    <tr>\n",
       "      <th>std</th>\n",
       "      <td>57.88</td>\n",
       "      <td>13.97</td>\n",
       "      <td>26.26</td>\n",
       "      <td>25.82</td>\n",
       "    </tr>\n",
       "    <tr>\n",
       "      <th>min</th>\n",
       "      <td>1.00</td>\n",
       "      <td>18.00</td>\n",
       "      <td>15.00</td>\n",
       "      <td>1.00</td>\n",
       "    </tr>\n",
       "    <tr>\n",
       "      <th>25%</th>\n",
       "      <td>50.75</td>\n",
       "      <td>28.75</td>\n",
       "      <td>41.50</td>\n",
       "      <td>34.75</td>\n",
       "    </tr>\n",
       "    <tr>\n",
       "      <th>50%</th>\n",
       "      <td>100.50</td>\n",
       "      <td>36.00</td>\n",
       "      <td>61.50</td>\n",
       "      <td>50.00</td>\n",
       "    </tr>\n",
       "    <tr>\n",
       "      <th>75%</th>\n",
       "      <td>150.25</td>\n",
       "      <td>49.00</td>\n",
       "      <td>78.00</td>\n",
       "      <td>73.00</td>\n",
       "    </tr>\n",
       "    <tr>\n",
       "      <th>max</th>\n",
       "      <td>200.00</td>\n",
       "      <td>70.00</td>\n",
       "      <td>137.00</td>\n",
       "      <td>99.00</td>\n",
       "    </tr>\n",
       "  </tbody>\n",
       "</table>\n",
       "</div>"
      ],
      "text/plain": [
       "               customer_id                  age        annual_income  \\\n",
       "count               200.00               200.00               200.00   \n",
       "mean                100.50                38.85                60.56   \n",
       "std                  57.88                13.97                26.26   \n",
       "min                   1.00                18.00                15.00   \n",
       "25%                  50.75                28.75                41.50   \n",
       "50%                 100.50                36.00                61.50   \n",
       "75%                 150.25                49.00                78.00   \n",
       "max                 200.00                70.00               137.00   \n",
       "\n",
       "            spending_score  \n",
       "count               200.00  \n",
       "mean                 50.20  \n",
       "std                  25.82  \n",
       "min                   1.00  \n",
       "25%                  34.75  \n",
       "50%                  50.00  \n",
       "75%                  73.00  \n",
       "max                  99.00  "
      ]
     },
     "execution_count": 15,
     "metadata": {},
     "output_type": "execute_result"
    }
   ],
   "source": [
    "### Descriptive Statistics \n",
    "mc_df.describe()"
   ]
  },
  {
   "cell_type": "code",
   "execution_count": 17,
   "id": "f26549f7",
   "metadata": {},
   "outputs": [
    {
     "data": {
      "text/plain": [
       "array([[<AxesSubplot:title={'center':'customer_id'}>,\n",
       "        <AxesSubplot:title={'center':'age'}>],\n",
       "       [<AxesSubplot:title={'center':'annual_income'}>,\n",
       "        <AxesSubplot:title={'center':'spending_score'}>]], dtype=object)"
      ]
     },
     "execution_count": 17,
     "metadata": {},
     "output_type": "execute_result"
    },
    {
     "data": {
      "image/png": "[encoded data removed]",
      "text/plain": [
       "<Figure size 1728x720 with 4 Axes>"
      ]
     },
     "metadata": {
      "needs_background": "light"
     },
     "output_type": "display_data"
    }
   ],
   "source": [
    "### Distributions \n",
    "mc_df.hist(figsize=(24, 10), bins=20)"
   ]
  },
  {
   "cell_type": "code",
   "execution_count": 32,
   "id": "af2c0b04",
   "metadata": {},
   "outputs": [],
   "source": [
    "def get_iqr():\n",
    "    q1 = mc_df.quantile(0.25)\n",
    "    q3 = mc_df.quantile(0.75)\n",
    "    IQR = q3 - q1 \n",
    "    return IQR"
   ]
  },
  {
   "cell_type": "code",
   "execution_count": 35,
   "id": "1a6ec0c2",
   "metadata": {},
   "outputs": [
    {
     "data": {
      "text/plain": [
       "customer_id                     99.50\n",
       "age                             20.25\n",
       "annual_income                   36.50\n",
       "spending_score                  38.25\n",
       "dtype: float64"
      ]
     },
     "execution_count": 35,
     "metadata": {},
     "output_type": "execute_result"
    }
   ],
   "source": [
    "get_iqr()"
   ]
  },
  {
   "cell_type": "code",
   "execution_count": 43,
   "id": "edf51d20",
   "metadata": {},
   "outputs": [],
   "source": [
    "def outer_limits(q1, q3, IQR):\n",
    "    lower_bound = q1 -(IQR *1.5)\n",
    "    upper_bound = q3 +(IQR *1.5)\n",
    "    return lower_bound, upper_bound"
   ]
  },
  {
   "cell_type": "code",
   "execution_count": 44,
   "id": "003b72a4",
   "metadata": {},
   "outputs": [
    {
     "data": {
      "text/plain": [
       "(-1.625, 79.375)"
      ]
     },
     "execution_count": 44,
     "metadata": {},
     "output_type": "execute_result"
    }
   ],
   "source": [
    "#age outer limits\n",
    "outer_limits(28.75, 49, 20.25)"
   ]
  },
  {
   "cell_type": "code",
   "execution_count": 45,
   "id": "d829e527",
   "metadata": {},
   "outputs": [
    {
     "data": {
      "text/plain": [
       "(-13.25, 132.75)"
      ]
     },
     "execution_count": 45,
     "metadata": {},
     "output_type": "execute_result"
    }
   ],
   "source": [
    "#annual income outer limits \n",
    "outer_limits(41.50, 78, 36.50)"
   ]
  },
  {
   "cell_type": "code",
   "execution_count": 46,
   "id": "cccf4444",
   "metadata": {},
   "outputs": [
    {
     "data": {
      "text/plain": [
       "(-22.625, 130.375)"
      ]
     },
     "execution_count": 46,
     "metadata": {},
     "output_type": "execute_result"
    }
   ],
   "source": [
    "#spending score outer limits \n",
    "outer_limits(34.75, 73, 38.25)"
   ]
  },
  {
   "cell_type": "code",
   "execution_count": 21,
   "id": "6c9b61ae",
   "metadata": {},
   "outputs": [
    {
     "data": {
      "text/plain": [
       "count                 200.00\n",
       "mean                   38.85\n",
       "std                    13.97\n",
       "min                    18.00\n",
       "25%                    28.75\n",
       "50%                    36.00\n",
       "75%                    49.00\n",
       "max                    70.00\n",
       "Name: age, dtype: float64"
      ]
     },
     "execution_count": 21,
     "metadata": {},
     "output_type": "execute_result"
    }
   ],
   "source": [
    "### Detect outliers using IQR \n",
    "mc_df.age.describe()"
   ]
  },
  {
   "cell_type": "code",
   "execution_count": 22,
   "id": "9e3f4c2f",
   "metadata": {},
   "outputs": [
    {
     "data": {
      "text/plain": [
       "count                 200.00\n",
       "mean                   60.56\n",
       "std                    26.26\n",
       "min                    15.00\n",
       "25%                    41.50\n",
       "50%                    61.50\n",
       "75%                    78.00\n",
       "max                   137.00\n",
       "Name: annual_income, dtype: float64"
      ]
     },
     "execution_count": 22,
     "metadata": {},
     "output_type": "execute_result"
    }
   ],
   "source": [
    "mc_df.annual_income.describe()"
   ]
  },
  {
   "cell_type": "code",
   "execution_count": 23,
   "id": "a3d7b9ac",
   "metadata": {},
   "outputs": [
    {
     "data": {
      "text/plain": [
       "count                 200.00\n",
       "mean                   50.20\n",
       "std                    25.82\n",
       "min                     1.00\n",
       "25%                    34.75\n",
       "50%                    50.00\n",
       "75%                    73.00\n",
       "max                    99.00\n",
       "Name: spending_score, dtype: float64"
      ]
     },
     "execution_count": 23,
     "metadata": {},
     "output_type": "execute_result"
    }
   ],
   "source": [
    "mc_df.spending_score.describe()"
   ]
  },
  {
   "cell_type": "code",
   "execution_count": 51,
   "id": "a16eeccf",
   "metadata": {},
   "outputs": [
    {
     "data": {
      "text/html": [
       "<div>\n",
       "<style scoped>\n",
       "    .dataframe tbody tr th:only-of-type {\n",
       "        vertical-align: middle;\n",
       "    }\n",
       "\n",
       "    .dataframe tbody tr th {\n",
       "        vertical-align: top;\n",
       "    }\n",
       "\n",
       "    .dataframe thead th {\n",
       "        text-align: right;\n",
       "    }\n",
       "</style>\n",
       "<table border=\"1\" class=\"dataframe\">\n",
       "  <thead>\n",
       "    <tr style=\"text-align: right;\">\n",
       "      <th></th>\n",
       "      <th>customer_id</th>\n",
       "      <th>gender</th>\n",
       "      <th>age</th>\n",
       "      <th>annual_income</th>\n",
       "      <th>spending_score</th>\n",
       "    </tr>\n",
       "  </thead>\n",
       "  <tbody>\n",
       "  </tbody>\n",
       "</table>\n",
       "</div>"
      ],
      "text/plain": [
       "Empty DataFrame\n",
       "Columns: [customer_id, gender, age, annual_income, spending_score]\n",
       "Index: []"
      ]
     },
     "execution_count": 51,
     "metadata": {},
     "output_type": "execute_result"
    }
   ],
   "source": [
    "mc_df[mc_df.age > 78]"
   ]
  },
  {
   "cell_type": "code",
   "execution_count": 52,
   "id": "5024eb94",
   "metadata": {},
   "outputs": [
    {
     "data": {
      "text/html": [
       "<div>\n",
       "<style scoped>\n",
       "    .dataframe tbody tr th:only-of-type {\n",
       "        vertical-align: middle;\n",
       "    }\n",
       "\n",
       "    .dataframe tbody tr th {\n",
       "        vertical-align: top;\n",
       "    }\n",
       "\n",
       "    .dataframe thead th {\n",
       "        text-align: right;\n",
       "    }\n",
       "</style>\n",
       "<table border=\"1\" class=\"dataframe\">\n",
       "  <thead>\n",
       "    <tr style=\"text-align: right;\">\n",
       "      <th></th>\n",
       "      <th>customer_id</th>\n",
       "      <th>gender</th>\n",
       "      <th>age</th>\n",
       "      <th>annual_income</th>\n",
       "      <th>spending_score</th>\n",
       "    </tr>\n",
       "  </thead>\n",
       "  <tbody>\n",
       "    <tr>\n",
       "      <th>198</th>\n",
       "      <td>199</td>\n",
       "      <td>Male</td>\n",
       "      <td>32</td>\n",
       "      <td>137</td>\n",
       "      <td>18</td>\n",
       "    </tr>\n",
       "    <tr>\n",
       "      <th>199</th>\n",
       "      <td>200</td>\n",
       "      <td>Male</td>\n",
       "      <td>30</td>\n",
       "      <td>137</td>\n",
       "      <td>83</td>\n",
       "    </tr>\n",
       "  </tbody>\n",
       "</table>\n",
       "</div>"
      ],
      "text/plain": [
       "     customer_id gender  age  annual_income  spending_score\n",
       "198          199   Male   32            137              18\n",
       "199          200   Male   30            137              83"
      ]
     },
     "execution_count": 52,
     "metadata": {},
     "output_type": "execute_result"
    }
   ],
   "source": [
    "mc_df[mc_df.annual_income > 132]"
   ]
  },
  {
   "cell_type": "code",
   "execution_count": 55,
   "id": "6f12b5b3",
   "metadata": {},
   "outputs": [
    {
     "data": {
      "text/html": [
       "<div>\n",
       "<style scoped>\n",
       "    .dataframe tbody tr th:only-of-type {\n",
       "        vertical-align: middle;\n",
       "    }\n",
       "\n",
       "    .dataframe tbody tr th {\n",
       "        vertical-align: top;\n",
       "    }\n",
       "\n",
       "    .dataframe thead th {\n",
       "        text-align: right;\n",
       "    }\n",
       "</style>\n",
       "<table border=\"1\" class=\"dataframe\">\n",
       "  <thead>\n",
       "    <tr style=\"text-align: right;\">\n",
       "      <th></th>\n",
       "      <th>customer_id</th>\n",
       "      <th>gender</th>\n",
       "      <th>age</th>\n",
       "      <th>annual_income</th>\n",
       "      <th>spending_score</th>\n",
       "    </tr>\n",
       "  </thead>\n",
       "  <tbody>\n",
       "  </tbody>\n",
       "</table>\n",
       "</div>"
      ],
      "text/plain": [
       "Empty DataFrame\n",
       "Columns: [customer_id, gender, age, annual_income, spending_score]\n",
       "Index: []"
      ]
     },
     "execution_count": 55,
     "metadata": {},
     "output_type": "execute_result"
    }
   ],
   "source": [
    "high_spenders = mc_df.spending_score > 130\n",
    "mc_df[high_spenders]"
   ]
  },
  {
   "cell_type": "code",
   "execution_count": 56,
   "id": "5360c181",
   "metadata": {},
   "outputs": [],
   "source": [
    "#best way to delete outliers \n",
    "mc_df.drop(mc_df[mc_df['annual_income'] > 132].index, inplace = True)"
   ]
  },
  {
   "cell_type": "code",
   "execution_count": 57,
   "id": "cc6f7abc",
   "metadata": {},
   "outputs": [
    {
     "data": {
      "text/html": [
       "<div>\n",
       "<style scoped>\n",
       "    .dataframe tbody tr th:only-of-type {\n",
       "        vertical-align: middle;\n",
       "    }\n",
       "\n",
       "    .dataframe tbody tr th {\n",
       "        vertical-align: top;\n",
       "    }\n",
       "\n",
       "    .dataframe thead th {\n",
       "        text-align: right;\n",
       "    }\n",
       "</style>\n",
       "<table border=\"1\" class=\"dataframe\">\n",
       "  <thead>\n",
       "    <tr style=\"text-align: right;\">\n",
       "      <th></th>\n",
       "      <th>customer_id</th>\n",
       "      <th>gender</th>\n",
       "      <th>age</th>\n",
       "      <th>annual_income</th>\n",
       "      <th>spending_score</th>\n",
       "    </tr>\n",
       "  </thead>\n",
       "  <tbody>\n",
       "  </tbody>\n",
       "</table>\n",
       "</div>"
      ],
      "text/plain": [
       "Empty DataFrame\n",
       "Columns: [customer_id, gender, age, annual_income, spending_score]\n",
       "Index: []"
      ]
     },
     "execution_count": 57,
     "metadata": {},
     "output_type": "execute_result"
    }
   ],
   "source": [
    "#outliers dropped \n",
    "mc_df[mc_df.annual_income > 132]"
   ]
  },
  {
   "cell_type": "code",
   "execution_count": 58,
   "id": "214c0cde",
   "metadata": {},
   "outputs": [],
   "source": [
    "#split data into train, validate, test \n",
    "def split_mall_data(df):\n",
    "    train_validate, test = train_test_split(df, test_size=.2, random_state=123)\n",
    "    train, validate = train_test_split(train_validate, test_size=.3, random_state=123)\n",
    "    return train, validate, test"
   ]
  },
  {
   "cell_type": "code",
   "execution_count": 65,
   "id": "520d517f",
   "metadata": {},
   "outputs": [],
   "source": [
    "train, validate, test = split_mall_data(mc_df)"
   ]
  },
  {
   "cell_type": "code",
   "execution_count": 66,
   "id": "0e13ed99",
   "metadata": {},
   "outputs": [
    {
     "data": {
      "text/plain": [
       "(110, 5)"
      ]
     },
     "execution_count": 66,
     "metadata": {},
     "output_type": "execute_result"
    }
   ],
   "source": [
    "train.shape"
   ]
  },
  {
   "cell_type": "code",
   "execution_count": 67,
   "id": "0a812601",
   "metadata": {},
   "outputs": [
    {
     "data": {
      "text/plain": [
       "(48, 5)"
      ]
     },
     "execution_count": 67,
     "metadata": {},
     "output_type": "execute_result"
    }
   ],
   "source": [
    "validate.shape"
   ]
  },
  {
   "cell_type": "code",
   "execution_count": 68,
   "id": "0b23640f",
   "metadata": {},
   "outputs": [
    {
     "data": {
      "text/plain": [
       "(40, 5)"
      ]
     },
     "execution_count": 68,
     "metadata": {},
     "output_type": "execute_result"
    }
   ],
   "source": [
    "test.shape"
   ]
  },
  {
   "cell_type": "code",
   "execution_count": 81,
   "id": "8d0ebffe",
   "metadata": {},
   "outputs": [],
   "source": [
    "def scale_data(train, \n",
    "               validate, \n",
    "               test, \n",
    "               columns_to_scale=['age', 'annual_income', 'spending_score'],\n",
    "               return_scaler=False):\n",
    "    '''\n",
    "    Scales the 3 data splits. \n",
    "    Takes in train, validate, and test data splits and returns their scaled counterparts.\n",
    "    If return_scalar is True, the scaler object will be returned as well\n",
    "    '''\n",
    "    \n",
    "    train_scaled = train.copy()\n",
    "    validate_scaled = validate.copy()\n",
    "    test_scaled = test.copy()\n",
    "    \n",
    "    scaler = MinMaxScaler()\n",
    "    scaler.fit(train[columns_to_scale])\n",
    "    \n",
    "    train_scaled[columns_to_scale] = pd.DataFrame(scaler.transform(train[columns_to_scale]),\n",
    "                                                  columns=train[columns_to_scale].columns.values).set_index([train.index.values])\n",
    "                                                  \n",
    "    validate_scaled[columns_to_scale] = pd.DataFrame(scaler.transform(validate[columns_to_scale]),\n",
    "                                                  columns=validate[columns_to_scale].columns.values).set_index([validate.index.values])\n",
    "    \n",
    "    test_scaled[columns_to_scale] = pd.DataFrame(scaler.transform(test[columns_to_scale]),\n",
    "                                                 columns=test[columns_to_scale].columns.values).set_index([test.index.values])\n",
    "    \n",
    "    if return_scaler:\n",
    "        return scaler, train_scaled, validate_scaled, test_scaled\n",
    "    else:\n",
    "        return train_scaled, validate_scaled, test_scaled"
   ]
  },
  {
   "cell_type": "code",
   "execution_count": 84,
   "id": "e1d36233",
   "metadata": {},
   "outputs": [],
   "source": [
    "train_scaled, validate_scaled, test_scaled = scale_data(train, validate, test, columns_to_scale=['age', 'annual_income', 'spending_score'],return_scaler=False)"
   ]
  },
  {
   "cell_type": "code",
   "execution_count": 85,
   "id": "4b4ba412",
   "metadata": {},
   "outputs": [
    {
     "data": {
      "text/html": [
       "<div>\n",
       "<style scoped>\n",
       "    .dataframe tbody tr th:only-of-type {\n",
       "        vertical-align: middle;\n",
       "    }\n",
       "\n",
       "    .dataframe tbody tr th {\n",
       "        vertical-align: top;\n",
       "    }\n",
       "\n",
       "    .dataframe thead th {\n",
       "        text-align: right;\n",
       "    }\n",
       "</style>\n",
       "<table border=\"1\" class=\"dataframe\">\n",
       "  <thead>\n",
       "    <tr style=\"text-align: right;\">\n",
       "      <th></th>\n",
       "      <th>customer_id</th>\n",
       "      <th>gender</th>\n",
       "      <th>age</th>\n",
       "      <th>annual_income</th>\n",
       "      <th>spending_score</th>\n",
       "    </tr>\n",
       "  </thead>\n",
       "  <tbody>\n",
       "    <tr>\n",
       "      <th>45</th>\n",
       "      <td>46</td>\n",
       "      <td>Female</td>\n",
       "      <td>0.12</td>\n",
       "      <td>0.22</td>\n",
       "      <td>0.65</td>\n",
       "    </tr>\n",
       "    <tr>\n",
       "      <th>39</th>\n",
       "      <td>40</td>\n",
       "      <td>Female</td>\n",
       "      <td>0.04</td>\n",
       "      <td>0.20</td>\n",
       "      <td>0.76</td>\n",
       "    </tr>\n",
       "  </tbody>\n",
       "</table>\n",
       "</div>"
      ],
      "text/plain": [
       "    customer_id  gender                  age        annual_income  \\\n",
       "45           46  Female                 0.12                 0.22   \n",
       "39           40  Female                 0.04                 0.20   \n",
       "\n",
       "         spending_score  \n",
       "45                 0.65  \n",
       "39                 0.76  "
      ]
     },
     "execution_count": 85,
     "metadata": {},
     "output_type": "execute_result"
    }
   ],
   "source": [
    "train_scaled.head(2)"
   ]
  },
  {
   "cell_type": "code",
   "execution_count": 86,
   "id": "e349a48e",
   "metadata": {},
   "outputs": [
    {
     "data": {
      "text/html": [
       "<div>\n",
       "<style scoped>\n",
       "    .dataframe tbody tr th:only-of-type {\n",
       "        vertical-align: middle;\n",
       "    }\n",
       "\n",
       "    .dataframe tbody tr th {\n",
       "        vertical-align: top;\n",
       "    }\n",
       "\n",
       "    .dataframe thead th {\n",
       "        text-align: right;\n",
       "    }\n",
       "</style>\n",
       "<table border=\"1\" class=\"dataframe\">\n",
       "  <thead>\n",
       "    <tr style=\"text-align: right;\">\n",
       "      <th></th>\n",
       "      <th>customer_id</th>\n",
       "      <th>gender</th>\n",
       "      <th>age</th>\n",
       "      <th>annual_income</th>\n",
       "      <th>spending_score</th>\n",
       "    </tr>\n",
       "  </thead>\n",
       "  <tbody>\n",
       "    <tr>\n",
       "      <th>176</th>\n",
       "      <td>177</td>\n",
       "      <td>Male</td>\n",
       "      <td>0.77</td>\n",
       "      <td>0.66</td>\n",
       "      <td>0.14</td>\n",
       "    </tr>\n",
       "    <tr>\n",
       "      <th>149</th>\n",
       "      <td>150</td>\n",
       "      <td>Male</td>\n",
       "      <td>0.31</td>\n",
       "      <td>0.57</td>\n",
       "      <td>0.91</td>\n",
       "    </tr>\n",
       "  </tbody>\n",
       "</table>\n",
       "</div>"
      ],
      "text/plain": [
       "     customer_id gender                  age        annual_income  \\\n",
       "176          177   Male                 0.77                 0.66   \n",
       "149          150   Male                 0.31                 0.57   \n",
       "\n",
       "          spending_score  \n",
       "176                 0.14  \n",
       "149                 0.91  "
      ]
     },
     "execution_count": 86,
     "metadata": {},
     "output_type": "execute_result"
    }
   ],
   "source": [
    "validate_scaled.head(2)"
   ]
  },
  {
   "cell_type": "code",
   "execution_count": 88,
   "id": "8194665d",
   "metadata": {},
   "outputs": [
    {
     "data": {
      "text/html": [
       "<div>\n",
       "<style scoped>\n",
       "    .dataframe tbody tr th:only-of-type {\n",
       "        vertical-align: middle;\n",
       "    }\n",
       "\n",
       "    .dataframe tbody tr th {\n",
       "        vertical-align: top;\n",
       "    }\n",
       "\n",
       "    .dataframe thead th {\n",
       "        text-align: right;\n",
       "    }\n",
       "</style>\n",
       "<table border=\"1\" class=\"dataframe\">\n",
       "  <thead>\n",
       "    <tr style=\"text-align: right;\">\n",
       "      <th></th>\n",
       "      <th>customer_id</th>\n",
       "      <th>gender</th>\n",
       "      <th>age</th>\n",
       "      <th>annual_income</th>\n",
       "      <th>spending_score</th>\n",
       "    </tr>\n",
       "  </thead>\n",
       "  <tbody>\n",
       "    <tr>\n",
       "      <th>156</th>\n",
       "      <td>157</td>\n",
       "      <td>Male</td>\n",
       "      <td>0.37</td>\n",
       "      <td>0.57</td>\n",
       "      <td>0.00</td>\n",
       "    </tr>\n",
       "    <tr>\n",
       "      <th>26</th>\n",
       "      <td>27</td>\n",
       "      <td>Female</td>\n",
       "      <td>0.52</td>\n",
       "      <td>0.12</td>\n",
       "      <td>0.32</td>\n",
       "    </tr>\n",
       "  </tbody>\n",
       "</table>\n",
       "</div>"
      ],
      "text/plain": [
       "     customer_id  gender                  age        annual_income  \\\n",
       "156          157    Male                 0.37                 0.57   \n",
       "26            27  Female                 0.52                 0.12   \n",
       "\n",
       "          spending_score  \n",
       "156                 0.00  \n",
       "26                  0.32  "
      ]
     },
     "execution_count": 88,
     "metadata": {},
     "output_type": "execute_result"
    }
   ],
   "source": [
    "test_scaled.head(2)"
   ]
  },
  {
   "cell_type": "code",
   "execution_count": null,
   "id": "78bf9956",
   "metadata": {},
   "outputs": [],
   "source": []
  }
 ],
 "metadata": {
  "kernelspec": {
   "display_name": "Python 3 (ipykernel)",
   "language": "python",
   "name": "python3"
  },
  "language_info": {
   "codemirror_mode": {
    "name": "ipython",
    "version": 3
   },
   "file_extension": ".py",
   "mimetype": "text/x-python",
   "name": "python",
   "nbconvert_exporter": "python",
   "pygments_lexer": "ipython3",
   "version": "3.9.7"
  }
 },
 "nbformat": 4,
 "nbformat_minor": 5
}
